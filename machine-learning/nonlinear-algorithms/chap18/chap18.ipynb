{
 "cells": [
  {
   "cell_type": "code",
   "execution_count": 1,
   "metadata": {},
   "outputs": [],
   "source": [
    "import numpy as np\n",
    "import pandas as pd\n",
    "import matplotlib.pyplot as plt\n",
    "%matplotlib inline"
   ]
  },
  {
   "cell_type": "markdown",
   "metadata": {},
   "source": [
    "## ExcelからDataを読み込む"
   ]
  },
  {
   "cell_type": "code",
   "execution_count": 2,
   "metadata": {},
   "outputs": [
    {
     "data": {
      "text/plain": [
       "<matplotlib.collections.PathCollection at 0x117614130>"
      ]
     },
     "execution_count": 2,
     "metadata": {},
     "output_type": "execute_result"
    },
    {
     "data": {
      "image/png": "[encoded data removed]",
      "text/plain": [
       "<Figure size 432x288 with 1 Axes>"
      ]
     },
     "metadata": {
      "needs_background": "light"
     },
     "output_type": "display_data"
    }
   ],
   "source": [
    "data = pd.read_excel(\"08-ClassificationAndRegressionTrees.xlsx\", usecols=[0, 1, 2], header=2)[:10].astype(np.float64)\n",
    "plt.scatter(data.X1[:5], data.X2[:5])\n",
    "plt.scatter(data.X1[5:], data.X2[5:])"
   ]
  },
  {
   "cell_type": "markdown",
   "metadata": {},
   "source": [
    "## Gini関数を用いて最も良い基準の値を探す\n",
    "$gini = ((1 - (g1_1^2 + g1_2^2)) \\times \\frac{n_{g1}}{n}) + ((1 - (g2_1^2 + g2_2^2)) \\times \\frac{n_{g2}}{n})$"
   ]
  },
  {
   "cell_type": "code",
   "execution_count": 3,
   "metadata": {},
   "outputs": [
    {
     "name": "stdout",
     "output_type": "stream",
     "text": [
      "6.642287351\n",
      "0.0\n"
     ]
    }
   ],
   "source": [
    "best_gini = 1.0\n",
    "best_criteria = -1.0\n",
    "for criteria in data.X1:\n",
    "    # 分岐ごとにグループ分けする. \n",
    "    left0 = left1 = right0 = right1 = 0\n",
    "    for d in data.itertuples():\n",
    "        if d.X1 < criteria:\n",
    "            if d.Y:\n",
    "                left1 += 1\n",
    "            else:\n",
    "                left0 += 1\n",
    "        else:\n",
    "            if d.Y:\n",
    "                right1 += 1\n",
    "            else:\n",
    "                right0 += 1\n",
    "    \n",
    "    # zero division errorの回避. 分類もできていないためcontinue. \n",
    "    left = left0 + left1\n",
    "    right = right0 + right1\n",
    "    if (left == 0 or right == 0): continue\n",
    "        \n",
    "    # 各基準ごとのgini関数の評価\n",
    "    left_gini = 1 - ((left0 / left)**2 + (left1 / left)**2)\n",
    "    right_gini = 1 - ((right0 / right)**2 + (right1 / right)**2)\n",
    "    gini = (left_gini * (left / len(data))) + (right_gini * (right / len(data)))\n",
    "    if(gini < best_gini):\n",
    "        best_gini = gini\n",
    "        best_criteria = criteria\n",
    "        \n",
    "print(best_criteria)\n",
    "print(best_gini)"
   ]
  },
  {
   "cell_type": "markdown",
   "metadata": {},
   "source": [
    "## テスト用のデータを用いて精度を確かめる"
   ]
  },
  {
   "cell_type": "code",
   "execution_count": 4,
   "metadata": {},
   "outputs": [
    {
     "name": "stdout",
     "output_type": "stream",
     "text": [
      "90.0%\n"
     ]
    }
   ],
   "source": [
    "test = pd.read_excel(\"08-ClassificationAndRegressionTrees.xlsx\", usecols=[0, 1, 2], header=73)[:10].astype(np.float64)\n",
    "\n",
    "predict = np.where(test.X1 < best_criteria, 0, 1)\n",
    "accuracy = (predict == test.Y).sum() / len(test)\n",
    "print(str(accuracy * 100) + '%')"
   ]
  }
 ],
 "metadata": {
  "kernelspec": {
   "display_name": "Python 3 (ipykernel)",
   "language": "python",
   "name": "python3"
  },
  "language_info": {
   "codemirror_mode": {
    "name": "ipython",
    "version": 3
   },
   "file_extension": ".py",
   "mimetype": "text/x-python",
   "name": "python",
   "nbconvert_exporter": "python",
   "pygments_lexer": "ipython3",
   "version": "3.8.0"
  }
 },
 "nbformat": 4,
 "nbformat_minor": 2
}

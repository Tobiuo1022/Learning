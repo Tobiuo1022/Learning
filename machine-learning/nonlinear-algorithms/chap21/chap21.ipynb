{
 "cells": [
  {
   "cell_type": "code",
   "execution_count": 1,
   "metadata": {},
   "outputs": [],
   "source": [
    "import numpy as np\n",
    "import pandas as pd\n",
    "import matplotlib.pyplot as plt\n",
    "%matplotlib inline"
   ]
  },
  {
   "cell_type": "markdown",
   "metadata": {},
   "source": [
    "## ExcelからDataを読み込む"
   ]
  },
  {
   "cell_type": "code",
   "execution_count": 2,
   "metadata": {},
   "outputs": [
    {
     "name": "stderr",
     "output_type": "stream",
     "text": [
      "/Users/tobiuo/learning/machine-learning/venv/lib/python3.8/site-packages/openpyxl/worksheet/_reader.py:312: UserWarning: Unknown extension is not supported and will be removed\n",
      "  warn(msg)\n"
     ]
    },
    {
     "data": {
      "text/plain": [
       "<matplotlib.collections.PathCollection at 0x110ccf310>"
      ]
     },
     "execution_count": 2,
     "metadata": {},
     "output_type": "execute_result"
    },
    {
     "data": {
      "image/png": "[encoded data removed]",
      "text/plain": [
       "<Figure size 432x288 with 1 Axes>"
      ]
     },
     "metadata": {
      "needs_background": "light"
     },
     "output_type": "display_data"
    }
   ],
   "source": [
    "# Excel内の画像などは読み込めないというwarningが出るが, dataは読み込めているため無視する. \n",
    "data = pd.read_excel(\"11-GaussianNaiveBayes.xlsx\", usecols=[0, 1, 2], header=3)[:10].astype(np.float64)\n",
    "data0 = data[:5]\n",
    "data1 = data[5:]\n",
    "plt.scatter(data0.X1, data0.X2)\n",
    "plt.scatter(data1.X1, data1.X2)"
   ]
  },
  {
   "cell_type": "markdown",
   "metadata": {},
   "source": [
    "## pdf関数を定義する\n",
    "$pdf(x, mean, sd) = \\frac{1}{\\sqrt{2 \\times \\pi} \\times sd} \\times e^{-(\\frac{(x - mean)^2}{2 \\times sd^2})}$"
   ]
  },
  {
   "cell_type": "code",
   "execution_count": 3,
   "metadata": {},
   "outputs": [],
   "source": [
    "def pdf(x, mean, std):\n",
    "     return 1 / (np.sqrt(2 * np.pi) * std) * np.exp(-(x - mean)**2 / (2 * std**2))"
   ]
  },
  {
   "cell_type": "markdown",
   "metadata": {},
   "source": [
    "## pdf関数を用いてclassを予測する"
   ]
  },
  {
   "cell_type": "code",
   "execution_count": 4,
   "metadata": {},
   "outputs": [],
   "source": [
    "# 統計量を予め計算する. \n",
    "p0 = len(data0) / len(data)\n",
    "p1 = len(data1) / len(data)\n",
    "means = [np.mean(data0.X1), np.mean(data0.X2), np.mean(data1.X1), np.mean(data1.X2)]\n",
    "stds = [np.std(data0.X1, ddof=1), np.std(data0.X2, ddof=1), np.std(data1.X1, ddof=1), np.std(data1.X2, ddof=1)]"
   ]
  },
  {
   "cell_type": "code",
   "execution_count": 5,
   "metadata": {},
   "outputs": [
    {
     "name": "stdout",
     "output_type": "stream",
     "text": [
      "0.05032427673372075\t0.00011557718380278686\t0\n",
      "0.03891229878967956\t4.0257123132417305e-05\t0\n",
      "0.023541957690525077\t1.0677123311741797e-07\t0\n",
      "0.016404353839568925\t0.00010893052118588354\t0\n",
      "0.06797274932849018\t3.89292073584926e-06\t0\n",
      "6.919582110595225e-08\t0.02202729913417614\t1\n",
      "0.00036240188135671384\t0.013133373826492557\t1\n",
      "2.44629984336952e-12\t0.018937264964934242\t1\n",
      "2.548609062340938e-08\t0.04197206998128321\t1\n",
      "1.5425966122045786e-09\t0.013636752788099475\t1\n"
     ]
    }
   ],
   "source": [
    "y0 = pdf(data.X1, means[0], stds[0]) * pdf(data.X2, means[1], stds[1]) * p0\n",
    "y1 = pdf(data.X1, means[2], stds[2]) * pdf(data.X2, means[3], stds[3]) * p1\n",
    "predict = np.where(y0 > y1, 0, 1)\n",
    "\n",
    "for i in range(len(predict)):\n",
    "    print(str(y0[i]) +'\\t'+ str(y1[i]) +'\\t'+ str(predict[i]))"
   ]
  },
  {
   "cell_type": "markdown",
   "metadata": {},
   "source": [
    "## 精度を確かめる"
   ]
  },
  {
   "cell_type": "code",
   "execution_count": 6,
   "metadata": {},
   "outputs": [
    {
     "name": "stdout",
     "output_type": "stream",
     "text": [
      "100.0%\n"
     ]
    }
   ],
   "source": [
    "accuracy = (predict == data.Y).sum() / len(data)\n",
    "print(str(accuracy * 100) + '%')"
   ]
  }
 ],
 "metadata": {
  "kernelspec": {
   "display_name": "Python 3 (ipykernel)",
   "language": "python",
   "name": "python3"
  },
  "language_info": {
   "codemirror_mode": {
    "name": "ipython",
    "version": 3
   },
   "file_extension": ".py",
   "mimetype": "text/x-python",
   "name": "python",
   "nbconvert_exporter": "python",
   "pygments_lexer": "ipython3",
   "version": "3.8.0"
  }
 },
 "nbformat": 4,
 "nbformat_minor": 2
}

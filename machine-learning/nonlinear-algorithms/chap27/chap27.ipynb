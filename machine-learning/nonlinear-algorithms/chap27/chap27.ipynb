{
 "cells": [
  {
   "cell_type": "code",
   "execution_count": 1,
   "metadata": {},
   "outputs": [],
   "source": [
    "import numpy as np\n",
    "import pandas as pd\n",
    "import matplotlib.pyplot as plt\n",
    "%matplotlib inline"
   ]
  },
  {
   "cell_type": "markdown",
   "metadata": {},
   "source": [
    "## ExcelからDataを読み取る"
   ]
  },
  {
   "cell_type": "code",
   "execution_count": 2,
   "metadata": {},
   "outputs": [
    {
     "name": "stderr",
     "output_type": "stream",
     "text": [
      "/Users/tobiuo/learning/machine-learning/venv/lib/python3.8/site-packages/openpyxl/worksheet/_reader.py:312: UserWarning: Unknown extension is not supported and will be removed\n",
      "  warn(msg)\n"
     ]
    },
    {
     "data": {
      "text/plain": [
       "<matplotlib.collections.PathCollection at 0x11e49fa60>"
      ]
     },
     "execution_count": 2,
     "metadata": {},
     "output_type": "execute_result"
    },
    {
     "data": {
      "image/png": "[encoded data removed]",
      "text/plain": [
       "<Figure size 432x288 with 1 Axes>"
      ]
     },
     "metadata": {
      "needs_background": "light"
     },
     "output_type": "display_data"
    }
   ],
   "source": [
    "# Excel内の画像などは読み込めないというwarningが出るが, dataは読み込めているため無視する. \n",
    "data = pd.read_excel(\"14-SupportVectorMachine.xlsx\", usecols=[0, 1, 2], header=3)[:10].astype(np.float64)\n",
    "plt.scatter(data.X1[:5], data.X2[:5])\n",
    "plt.scatter(data.X1[5:], data.X2[5:])"
   ]
  },
  {
   "cell_type": "markdown",
   "metadata": {},
   "source": [
    "## 学習させる\n",
    "$output = Y \\times ((B1 \\times X1) + (B2 \\times X2))$\n",
    "\n",
    "- if $output < 1:$\n",
    "\n",
    "$b = (1 - \\frac{1}{t}) \\times b + \\frac{1}{lambda \\times t} \\times (y \\times x)$\n",
    "\n",
    "- else:\n",
    "\n",
    "$b = (1 - \\frac{1}{t}) \\times b$"
   ]
  },
  {
   "cell_type": "code",
   "execution_count": 3,
   "metadata": {},
   "outputs": [],
   "source": [
    "lmd = 0.45 # lambda\n",
    "epoch = 16\n",
    "b1 = b2 = 0.0\n",
    "t = 0"
   ]
  },
  {
   "cell_type": "code",
   "execution_count": 4,
   "metadata": {},
   "outputs": [],
   "source": [
    "accuracy_log = [] # for track of the accuracy.\n",
    "for e in range(epoch):\n",
    "    crisp = []\n",
    "    for d in data.itertuples():\n",
    "        t += 1\n",
    "        crisp.append(-1 if (b1 * d.X1) + (b2 * d.X2) < 0 else 1)\n",
    "        output = d.Y * ((b1 * d.X1) + (b2 * d.X2))\n",
    "        if output < 1:\n",
    "            b1 = (1 - 1 / t) * b1 + 1 / (lmd * t) * (d.Y * d.X1)\n",
    "            b2 = (1 - 1 / t) * b2 + 1 / (lmd * t) * (d.Y * d.X2)\n",
    "        else:\n",
    "            b1 = (1 - 1 / t) * b1\n",
    "            b2 = (1 - 1 / t) * b2\n",
    "    accuracy = (crisp == data.Y).sum() / len(data)\n",
    "    accuracy_log.append(accuracy*100)"
   ]
  },
  {
   "cell_type": "markdown",
   "metadata": {},
   "source": [
    "## epoch毎の精度をtrackする"
   ]
  },
  {
   "cell_type": "code",
   "execution_count": 5,
   "metadata": {},
   "outputs": [
    {
     "data": {
      "text/plain": [
       "[<matplotlib.lines.Line2D at 0x11e562b20>]"
      ]
     },
     "execution_count": 5,
     "metadata": {},
     "output_type": "execute_result"
    },
    {
     "data": {
      "image/png": "[encoded data removed]",
      "text/plain": [
       "<Figure size 432x288 with 1 Axes>"
      ]
     },
     "metadata": {
      "needs_background": "light"
     },
     "output_type": "display_data"
    }
   ],
   "source": [
    "plt.ylim(0, 120)\n",
    "plt.grid(axis='y', lw=0.5)\n",
    "plt.plot(range(len(accuracy_log)), accuracy_log)"
   ]
  },
  {
   "cell_type": "markdown",
   "metadata": {},
   "source": [
    "## 最終的な精度を確かめる\n",
    "$output = (B1 \\times X1) + (B2 \\times X2)$\n",
    "\n",
    "- if $output < 0$\n",
    "\n",
    "$Y = -1$\n",
    "\n",
    "- else \n",
    "\n",
    "$Y = 1$"
   ]
  },
  {
   "cell_type": "code",
   "execution_count": 6,
   "metadata": {},
   "outputs": [
    {
     "name": "stdout",
     "output_type": "stream",
     "text": [
      "[-1 -1 -1 -1 -1  1  1  1  1  1]\n",
      "100.0%\n"
     ]
    }
   ],
   "source": [
    "crisp = np.where((b1 * data.X1) + (b2 * data.X2) < 0, -1, 1)\n",
    "print(crisp)\n",
    "accuracy = (crisp == data.Y).sum() / len(data)\n",
    "print(str(accuracy * 100) + '%')"
   ]
  },
  {
   "cell_type": "markdown",
   "metadata": {},
   "source": [
    "## hyperplaneを可視化する\n",
    "hyperplane: \n",
    "$0 + (b1 \\times X1) + (b2 \\times X2) = 0 \\\\\n",
    "X2 = -\\frac{b1 \\times X1}{b2}$\n",
    "\n",
    "epoch数を増やすとhyperplaneが丁度良い感じに移動する. "
   ]
  },
  {
   "cell_type": "code",
   "execution_count": 7,
   "metadata": {},
   "outputs": [
    {
     "data": {
      "text/plain": [
       "[<matplotlib.lines.Line2D at 0x11e5c3460>]"
      ]
     },
     "execution_count": 7,
     "metadata": {},
     "output_type": "execute_result"
    },
    {
     "data": {
      "image/png": "[encoded data removed]",
      "text/plain": [
       "<Figure size 432x288 with 1 Axes>"
      ]
     },
     "metadata": {
      "needs_background": "light"
     },
     "output_type": "display_data"
    }
   ],
   "source": [
    "plt.scatter(data.X1[:5], data.X2[:5])\n",
    "plt.scatter(data.X1[5:], data.X2[5:])\n",
    "\n",
    "x = data.X1\n",
    "y = b1 * data.X1 / -b2\n",
    "plt.plot(x, y, color='red')"
   ]
  }
 ],
 "metadata": {
  "kernelspec": {
   "display_name": "Python 3 (ipykernel)",
   "language": "python",
   "name": "python3"
  },
  "language_info": {
   "codemirror_mode": {
    "name": "ipython",
    "version": 3
   },
   "file_extension": ".py",
   "mimetype": "text/x-python",
   "name": "python",
   "nbconvert_exporter": "python",
   "pygments_lexer": "ipython3",
   "version": "3.8.0"
  }
 },
 "nbformat": 4,
 "nbformat_minor": 2
}

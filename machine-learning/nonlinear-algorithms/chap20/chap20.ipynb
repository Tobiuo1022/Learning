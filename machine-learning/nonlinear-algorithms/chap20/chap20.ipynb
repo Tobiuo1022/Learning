{
 "cells": [
  {
   "cell_type": "code",
   "execution_count": 1,
   "metadata": {},
   "outputs": [],
   "source": [
    "import numpy as np\n",
    "import pandas as pd\n",
    "import matplotlib.pyplot as plt\n",
    "%matplotlib inline"
   ]
  },
  {
   "cell_type": "markdown",
   "metadata": {},
   "source": [
    "## ExcelからDataを読み込む\n",
    "- Weather: sunny = 1, rainy = 0\n",
    "- Car: working = 1, broken = 0\n",
    "- Class: go-out = 1, stay-home = 0"
   ]
  },
  {
   "cell_type": "code",
   "execution_count": 2,
   "metadata": {},
   "outputs": [
    {
     "name": "stderr",
     "output_type": "stream",
     "text": [
      "/Users/tobiuo/learning/machine-learning/venv/lib/python3.8/site-packages/openpyxl/worksheet/_reader.py:312: UserWarning: Unknown extension is not supported and will be removed\n",
      "  warn(msg)\n"
     ]
    },
    {
     "data": {
      "text/html": [
       "<div>\n",
       "<style scoped>\n",
       "    .dataframe tbody tr th:only-of-type {\n",
       "        vertical-align: middle;\n",
       "    }\n",
       "\n",
       "    .dataframe tbody tr th {\n",
       "        vertical-align: top;\n",
       "    }\n",
       "\n",
       "    .dataframe thead th {\n",
       "        text-align: right;\n",
       "    }\n",
       "</style>\n",
       "<table border=\"1\" class=\"dataframe\">\n",
       "  <thead>\n",
       "    <tr style=\"text-align: right;\">\n",
       "      <th></th>\n",
       "      <th>Weather</th>\n",
       "      <th>Car</th>\n",
       "      <th>Class</th>\n",
       "    </tr>\n",
       "  </thead>\n",
       "  <tbody>\n",
       "    <tr>\n",
       "      <th>0</th>\n",
       "      <td>1.0</td>\n",
       "      <td>1.0</td>\n",
       "      <td>1.0</td>\n",
       "    </tr>\n",
       "    <tr>\n",
       "      <th>1</th>\n",
       "      <td>0.0</td>\n",
       "      <td>0.0</td>\n",
       "      <td>1.0</td>\n",
       "    </tr>\n",
       "    <tr>\n",
       "      <th>2</th>\n",
       "      <td>1.0</td>\n",
       "      <td>1.0</td>\n",
       "      <td>1.0</td>\n",
       "    </tr>\n",
       "    <tr>\n",
       "      <th>3</th>\n",
       "      <td>1.0</td>\n",
       "      <td>1.0</td>\n",
       "      <td>1.0</td>\n",
       "    </tr>\n",
       "    <tr>\n",
       "      <th>4</th>\n",
       "      <td>1.0</td>\n",
       "      <td>1.0</td>\n",
       "      <td>1.0</td>\n",
       "    </tr>\n",
       "    <tr>\n",
       "      <th>5</th>\n",
       "      <td>0.0</td>\n",
       "      <td>0.0</td>\n",
       "      <td>0.0</td>\n",
       "    </tr>\n",
       "    <tr>\n",
       "      <th>6</th>\n",
       "      <td>0.0</td>\n",
       "      <td>0.0</td>\n",
       "      <td>0.0</td>\n",
       "    </tr>\n",
       "    <tr>\n",
       "      <th>7</th>\n",
       "      <td>1.0</td>\n",
       "      <td>1.0</td>\n",
       "      <td>0.0</td>\n",
       "    </tr>\n",
       "    <tr>\n",
       "      <th>8</th>\n",
       "      <td>1.0</td>\n",
       "      <td>0.0</td>\n",
       "      <td>0.0</td>\n",
       "    </tr>\n",
       "    <tr>\n",
       "      <th>9</th>\n",
       "      <td>0.0</td>\n",
       "      <td>0.0</td>\n",
       "      <td>0.0</td>\n",
       "    </tr>\n",
       "  </tbody>\n",
       "</table>\n",
       "</div>"
      ],
      "text/plain": [
       "   Weather  Car  Class\n",
       "0      1.0  1.0    1.0\n",
       "1      0.0  0.0    1.0\n",
       "2      1.0  1.0    1.0\n",
       "3      1.0  1.0    1.0\n",
       "4      1.0  1.0    1.0\n",
       "5      0.0  0.0    0.0\n",
       "6      0.0  0.0    0.0\n",
       "7      1.0  1.0    0.0\n",
       "8      1.0  0.0    0.0\n",
       "9      0.0  0.0    0.0"
      ]
     },
     "execution_count": 2,
     "metadata": {},
     "output_type": "execute_result"
    }
   ],
   "source": [
    "# Excel内の画像などは読み込めないというwarningが出るが, dataは読み込めているため無視する. \n",
    "data = pd.read_excel(\"09-NaiveBayes.xlsx\", usecols=[0, 1, 2], header=17)[:10].astype(np.float64)\n",
    "data"
   ]
  },
  {
   "cell_type": "markdown",
   "metadata": {},
   "source": [
    "## 要素ごとに集合を作る"
   ]
  },
  {
   "cell_type": "code",
   "execution_count": 3,
   "metadata": {},
   "outputs": [],
   "source": [
    "sunny = set(data.query('Weather == 1').index)\n",
    "rainy = set(range(len(data))) - sunny\n",
    "\n",
    "working = set(data.query('Car == 1').index)\n",
    "broken = set(range(len(data))) - working\n",
    "\n",
    "go_out = set(data.query('Class == 1').index)\n",
    "stay_home = set(range(len(data))) - go_out"
   ]
  },
  {
   "cell_type": "markdown",
   "metadata": {},
   "source": [
    "## 尤度を計算し, classを判別する. \n",
    "$likelihood = P(weather \\mid class) \\times P(car \\mid class) \\times P(class) \\\\\n",
    "= \\frac{len(weather \\cap class)}{len(class)} \\times \\frac{len(car \\cap class)}{len(class)} \\times \\frac{len(class)}{len(data)} \\\\\n",
    "= len(weather \\cap class) \\times len(car \\cap class) \\times \\frac{1}{len(class) \\times len(data)}$"
   ]
  },
  {
   "cell_type": "code",
   "execution_count": 4,
   "metadata": {},
   "outputs": [],
   "source": [
    "# 計算速度向上のため, 予めlen(class) * len(data)をCとおく. \n",
    "C0 = len(stay_home) * len(data)\n",
    "C1 = len(go_out) * len(data)"
   ]
  },
  {
   "cell_type": "code",
   "execution_count": 5,
   "metadata": {},
   "outputs": [
    {
     "name": "stdout",
     "output_type": "stream",
     "text": [
      "0.04\t0.32\t1\n",
      "0.24\t0.02\t0\n",
      "0.04\t0.32\t1\n",
      "0.04\t0.32\t1\n",
      "0.04\t0.32\t1\n",
      "0.24\t0.02\t0\n",
      "0.24\t0.02\t0\n",
      "0.04\t0.32\t1\n",
      "0.16\t0.08\t0\n",
      "0.24\t0.02\t0\n"
     ]
    }
   ],
   "source": [
    "predict = []\n",
    "for d in data.itertuples():\n",
    "    weather = sunny if d.Weather else rainy\n",
    "    car = working if d.Car else broken\n",
    "    likelihood0 = len(weather&stay_home) * len(car&stay_home) / C0\n",
    "    likelihood1 = len(weather&go_out) * len(car&go_out) / C1\n",
    "    p = 0 if likelihood0 > likelihood1 else 1\n",
    "    predict.append(p)\n",
    "    \n",
    "    print(str(likelihood0) +'\\t'+ str(likelihood1) +'\\t'+ str(p))"
   ]
  },
  {
   "cell_type": "markdown",
   "metadata": {},
   "source": [
    "## 精度を確かめる"
   ]
  },
  {
   "cell_type": "code",
   "execution_count": 6,
   "metadata": {},
   "outputs": [
    {
     "name": "stdout",
     "output_type": "stream",
     "text": [
      "80.0%\n"
     ]
    }
   ],
   "source": [
    "accuracy = (predict == data.Class).sum() / len(data)\n",
    "print(str(accuracy * 100) +'%')"
   ]
  }
 ],
 "metadata": {
  "kernelspec": {
   "display_name": "Python 3 (ipykernel)",
   "language": "python",
   "name": "python3"
  },
  "language_info": {
   "codemirror_mode": {
    "name": "ipython",
    "version": 3
   },
   "file_extension": ".py",
   "mimetype": "text/x-python",
   "name": "python",
   "nbconvert_exporter": "python",
   "pygments_lexer": "ipython3",
   "version": "3.8.0"
  }
 },
 "nbformat": 4,
 "nbformat_minor": 2
}

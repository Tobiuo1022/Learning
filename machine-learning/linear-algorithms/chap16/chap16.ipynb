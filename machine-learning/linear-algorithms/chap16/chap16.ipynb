{
 "cells": [
  {
   "cell_type": "code",
   "execution_count": 1,
   "metadata": {},
   "outputs": [],
   "source": [
    "import numpy as np\n",
    "import pandas as pd\n",
    "import matplotlib.pyplot as plt\n",
    "%matplotlib inline"
   ]
  },
  {
   "cell_type": "markdown",
   "metadata": {},
   "source": [
    "## ExcelからDataを読み込む"
   ]
  },
  {
   "cell_type": "code",
   "execution_count": 2,
   "metadata": {},
   "outputs": [
    {
     "name": "stderr",
     "output_type": "stream",
     "text": [
      "/Users/tobiuo/learning/machine-learning/venv/lib/python3.8/site-packages/openpyxl/worksheet/_reader.py:312: UserWarning: Unknown extension is not supported and will be removed\n",
      "  warn(msg)\n"
     ]
    },
    {
     "data": {
      "text/plain": [
       "<matplotlib.collections.PathCollection at 0x11d4e2160>"
      ]
     },
     "execution_count": 2,
     "metadata": {},
     "output_type": "execute_result"
    },
    {
     "data": {
      "image/png": "[encoded data removed]",
      "text/plain": [
       "<Figure size 432x288 with 1 Axes>"
      ]
     },
     "metadata": {
      "needs_background": "light"
     },
     "output_type": "display_data"
    }
   ],
   "source": [
    "# Excel内の画像などは読み込めないというwarningが出るが, dataは読み込めているため無視する. \n",
    "data = pd.read_excel(\"06-LinearDiscriminantAnalysis.xlsx\", usecols=[0, 1], header=3)[:40].astype(np.float64)\n",
    "data0 = data[:20]\n",
    "data1 = data[20:]\n",
    "plt.scatter(range(len(data0)), data0.X)\n",
    "plt.scatter(range(len(data1)), data1.X)"
   ]
  },
  {
   "cell_type": "markdown",
   "metadata": {},
   "source": [
    "## 各クラスの平均と基本確率を求める"
   ]
  },
  {
   "cell_type": "code",
   "execution_count": 3,
   "metadata": {},
   "outputs": [
    {
     "name": "stdout",
     "output_type": "stream",
     "text": [
      "4.975415506999999\t20.087062921\n",
      "0.5\t0.5\n"
     ]
    }
   ],
   "source": [
    "mean0 = np.mean(data0.X)\n",
    "mean1 = np.mean(data1.X)\n",
    "print(str(mean0) +'\\t'+ str(mean1))\n",
    "\n",
    "prob0 = len(data0) / len(data)\n",
    "prob1 = len(data1) / len(data)\n",
    "print(str(prob0) +'\\t'+ str(prob1))"
   ]
  },
  {
   "cell_type": "markdown",
   "metadata": {},
   "source": [
    "## 全体の分散を求める\n",
    "$variance = \\frac{1}{len(x) - len(classes)} \\times \\Sigma^n_{i=1} (x_i - mean_{class})^2$"
   ]
  },
  {
   "cell_type": "code",
   "execution_count": 4,
   "metadata": {},
   "outputs": [
    {
     "name": "stdout",
     "output_type": "stream",
     "text": [
      "0.8329315056876604\n"
     ]
    }
   ],
   "source": [
    "# ssd is sum of squared deviation(偏差平方和)\n",
    "ssd0 = np.sum((mean0 - data0.X)**2)\n",
    "ssd1 = np.sum((mean1 - data1.X)**2)\n",
    "variance = (ssd0 + ssd1) / (len(data) - 2)\n",
    "print((variance))"
   ]
  },
  {
   "cell_type": "markdown",
   "metadata": {},
   "source": [
    "## 予測してみる\n",
    "$discriminant = x \\times \\frac{mean}{variance} - \\frac{mean^2}{2 \\times variance} + \\ln(probability)$"
   ]
  },
  {
   "cell_type": "code",
   "execution_count": 5,
   "metadata": {},
   "outputs": [
    {
     "name": "stdout",
     "output_type": "stream",
     "text": [
      "4.667797637\t12.329355797118469\t-130.33490382181333\t0\n",
      "5.509198779\t17.35536365121942\t-110.04358626959547\t0\n",
      "4.702791608\t12.538388046200184\t-129.49098557339465\t0\n",
      "5.956706641\t20.028497685525167\t-99.25144007239425\t0\n",
      "5.738622413\t18.725797952817246\t-104.5107820230833\t0\n",
      "5.027283325\t14.476700031796112\t-121.66550953819407\t0\n",
      "4.805434058\t13.151510294451382\t-127.01564956144563\t0\n",
      "4.425689143\t10.88315002005458\t-136.1736174729094\t0\n",
      "5.009368635\t14.369688799995595\t-122.09754206761929\t0\n",
      "5.116718815\t15.010932103441393\t-119.50867394879315\t0\n",
      "6.370917709\t22.502737352083102\t-89.26228282635938\t0\n",
      "2.895041947\t1.7400143087488953\t-173.0868646318345\t0\n",
      "4.666842365\t12.323649595480346\t-130.357941260834\t0\n",
      "5.602154638\t17.910624220878475\t-107.80185309482854\t0\n",
      "4.902797978\t13.73310188281418\t-124.66761112860888\t0\n",
      "5.032652964\t14.508774920265529\t-121.53601476495096\t0\n",
      "4.083972925\t8.841949563089115\t-144.4144813677446\t0\n",
      "4.875524106\t13.57018471044393\t-125.3253506656804\t0\n",
      "4.732801047\t12.717645796852443\t-128.76727481770746\t0\n",
      "5.385993407\t16.61941127793463\t-113.01481984963158\t0\n",
      "20.74393514\t108.35821684861057\t257.3589021446295\t1\n",
      "21.41752855\t112.38184553193203\t273.60335095878537\t1\n",
      "20.57924186\t107.37444147978934\t253.38714185529489\t1\n",
      "20.7386947\t108.32691371472566\t257.23252314792336\t1\n",
      "19.44605384\t100.60548003631523\t226.05906157062503\t1\n",
      "18.36360265\t94.13958890418634\t199.95455596125885\t1\n",
      "19.90363232\t103.33876968800382\t237.09407184012753\t1\n",
      "19.10870851\t98.59038854963849\t217.92360646592095\t1\n",
      "18.18787593\t93.0899066173332\t195.7167120840162\t1\n",
      "19.71767611\t102.2279827811103\t232.6095325168888\t1\n",
      "19.09629027\t98.51620969646301\t217.62412689701915\t1\n",
      "20.52741312\t107.0648487762556\t252.1372345647349\t1\n",
      "20.63205608\t107.68992082879197\t254.66081508414914\t1\n",
      "19.86218119\t103.09116638139773\t236.0944320729066\t1\n",
      "21.34670569\t111.95879375217834\t271.8953794925233\t1\n",
      "20.333906\t105.90895742265859\t247.47059670969003\t1\n",
      "21.02714855\t110.04995786486738\t264.1889062300725\t1\n",
      "18.27536089\t93.61248743417231\t197.82650848883628\t1\n",
      "21.77371156\t114.50946161942876\t282.1930975158618\t1\n",
      "20.65953546\t107.85406557831958\t255.32351067354733\t1\n"
     ]
    }
   ],
   "source": [
    "disc0 = (data.X * mean0 / variance) - (mean0**2 / (2 * variance)) + np.log(prob0)\n",
    "disc1 = (data.X * mean1 / variance) - (mean1**2 / (2 * variance)) + np.log(prob1)\n",
    "predict = np.where(disc0 > disc1, 0, 1)\n",
    "for i in range(len(data)):\n",
    "    print(str(data.X[i]) +'\\t'+ str(disc0[i]) +'\\t'+ str(disc1[i]) +'\\t'+ str(predict[i]))"
   ]
  },
  {
   "cell_type": "markdown",
   "metadata": {},
   "source": [
    "## 精度を確かめる"
   ]
  },
  {
   "cell_type": "code",
   "execution_count": 6,
   "metadata": {},
   "outputs": [
    {
     "name": "stdout",
     "output_type": "stream",
     "text": [
      "100.0%\n"
     ]
    }
   ],
   "source": [
    "accuracy = (predict == data.Y).sum() / len(data)\n",
    "print(str(accuracy * 100) +'%')"
   ]
  }
 ],
 "metadata": {
  "kernelspec": {
   "display_name": "Python 3 (ipykernel)",
   "language": "python",
   "name": "python3"
  },
  "language_info": {
   "codemirror_mode": {
    "name": "ipython",
    "version": 3
   },
   "file_extension": ".py",
   "mimetype": "text/x-python",
   "name": "python",
   "nbconvert_exporter": "python",
   "pygments_lexer": "ipython3",
   "version": "3.8.0"
  }
 },
 "nbformat": 4,
 "nbformat_minor": 2
}

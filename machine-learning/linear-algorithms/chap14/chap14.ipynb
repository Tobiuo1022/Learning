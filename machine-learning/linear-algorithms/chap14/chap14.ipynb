{
 "cells": [
  {
   "cell_type": "code",
   "execution_count": 1,
   "metadata": {},
   "outputs": [],
   "source": [
    "import numpy as np\n",
    "import pandas as pd\n",
    "import matplotlib.pyplot as plt\n",
    "%matplotlib inline"
   ]
  },
  {
   "cell_type": "markdown",
   "metadata": {},
   "source": [
    "## ExcelからDataを読み込む"
   ]
  },
  {
   "cell_type": "code",
   "execution_count": 2,
   "metadata": {},
   "outputs": [
    {
     "name": "stderr",
     "output_type": "stream",
     "text": [
      "/Users/tobiuo/learning/machine-learning/venv/lib/python3.8/site-packages/openpyxl/worksheet/_reader.py:312: UserWarning: Unknown extension is not supported and will be removed\n",
      "  warn(msg)\n"
     ]
    },
    {
     "data": {
      "text/plain": [
       "<matplotlib.collections.PathCollection at 0x1206a9a60>"
      ]
     },
     "execution_count": 2,
     "metadata": {},
     "output_type": "execute_result"
    },
    {
     "data": {
      "image/png": "[encoded data removed]",
      "text/plain": [
       "<Figure size 432x288 with 1 Axes>"
      ]
     },
     "metadata": {
      "needs_background": "light"
     },
     "output_type": "display_data"
    }
   ],
   "source": [
    "# Excel内の画像などは読み込めないというwarningが出るが, dataは読み込めているため無視する. \n",
    "data = pd.read_excel(\"05-LogisticRegression.xlsx\", usecols=[0, 1, 2], header=3)[:10].astype(np.float64)\n",
    "plt.scatter(data.X1[:5], data.X2[:5])\n",
    "plt.scatter(data.X1[5:], data.X2[5:])"
   ]
  },
  {
   "cell_type": "markdown",
   "metadata": {},
   "source": [
    "## 最急降下法を10epock分行う"
   ]
  },
  {
   "cell_type": "code",
   "execution_count": 3,
   "metadata": {},
   "outputs": [],
   "source": [
    "alpha = 0.3\n",
    "epoch = 10\n",
    "B0 = B1 = B2 = 0"
   ]
  },
  {
   "cell_type": "markdown",
   "metadata": {},
   "source": [
    "$predict = \\frac{1}{1 + e^{-(B_{0} + B_{1} \\times X_{1} + B_{2} \\times X_{2})}}$\n",
    "\n",
    "$b = b + alpha \\times (y - predict) \\times predict \\times (1 - predict) \\times x$"
   ]
  },
  {
   "cell_type": "code",
   "execution_count": 4,
   "metadata": {},
   "outputs": [
    {
     "name": "stdout",
     "output_type": "stream",
     "text": [
      "-0.4066054639903162\t0.8525733163581151\t-1.1047462590413433\n"
     ]
    }
   ],
   "source": [
    "for e in range(epoch):\n",
    "    for d in data.itertuples():\n",
    "        predict = 1 / (1 + np.exp(-(B0 + B1*d.X1 + B2*d.X2)))\n",
    "        B0 = B0 + alpha * (d.Y - predict) * predict * (1 - predict)\n",
    "        B1 = B1 + alpha * (d.Y - predict) * predict * (1 - predict) * d.X1\n",
    "        B2 = B2 + alpha * (d.Y - predict) * predict * (1 - predict) * d.X2\n",
    "\n",
    "print(str(B0) +\"\\t\"+ str(B1) +\"\\t\"+ str(B2))"
   ]
  },
  {
   "cell_type": "markdown",
   "metadata": {},
   "source": [
    "## 予測した関数を試してみる"
   ]
  },
  {
   "cell_type": "code",
   "execution_count": 5,
   "metadata": {},
   "outputs": [
    {
     "name": "stdout",
     "output_type": "stream",
     "text": [
      "0.29875698575368714\t0\n",
      "0.14595105598476335\t0\n",
      "0.08533326527883243\t0\n",
      "0.21973731432177582\t0\n",
      "0.2470590002720733\t0\n",
      "0.9547021348596154\t1\n",
      "0.8620341907462735\t1\n",
      "0.9717729051083576\t1\n",
      "0.999295452089986\t1\n",
      "0.9054893230346418\t1\n"
     ]
    }
   ],
   "source": [
    "predict = 1 / (1 + np.exp(-(B0 + B1*data.X1 + B2*data.X2)))\n",
    "crisp = np.where(predict < 0.5, 0, 1)\n",
    "for i in range(len(predict)):\n",
    "    print(str(predict[i]) +'\\t'+ str(crisp[i]))"
   ]
  },
  {
   "cell_type": "markdown",
   "metadata": {},
   "source": [
    "## 精度を確かめる"
   ]
  },
  {
   "cell_type": "code",
   "execution_count": 6,
   "metadata": {},
   "outputs": [
    {
     "name": "stdout",
     "output_type": "stream",
     "text": [
      "100.0%\n"
     ]
    }
   ],
   "source": [
    "accuracy = (crisp == data.Y).sum() / len(data)\n",
    "print(str(accuracy * 100) + '%')"
   ]
  }
 ],
 "metadata": {
  "kernelspec": {
   "display_name": "Python 3 (ipykernel)",
   "language": "python",
   "name": "python3"
  },
  "language_info": {
   "codemirror_mode": {
    "name": "ipython",
    "version": 3
   },
   "file_extension": ".py",
   "mimetype": "text/x-python",
   "name": "python",
   "nbconvert_exporter": "python",
   "pygments_lexer": "ipython3",
   "version": "3.8.0"
  }
 },
 "nbformat": 4,
 "nbformat_minor": 2
}

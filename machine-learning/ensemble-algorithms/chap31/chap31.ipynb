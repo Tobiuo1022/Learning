{
 "cells": [
  {
   "cell_type": "code",
   "execution_count": 1,
   "metadata": {},
   "outputs": [],
   "source": [
    "import numpy as np\n",
    "import pandas as pd\n",
    "import matplotlib.pyplot as plt\n",
    "%matplotlib inline"
   ]
  },
  {
   "cell_type": "markdown",
   "metadata": {},
   "source": [
    "## ExcelからDataを読み込む"
   ]
  },
  {
   "cell_type": "code",
   "execution_count": 2,
   "metadata": {
    "scrolled": true
   },
   "outputs": [
    {
     "data": {
      "text/plain": [
       "<matplotlib.collections.PathCollection at 0x11eac0f70>"
      ]
     },
     "execution_count": 2,
     "metadata": {},
     "output_type": "execute_result"
    },
    {
     "data": {
      "image/png": "[encoded data removed]",
      "text/plain": [
       "<Figure size 432x288 with 1 Axes>"
      ]
     },
     "metadata": {
      "needs_background": "light"
     },
     "output_type": "display_data"
    }
   ],
   "source": [
    "data = pd.read_excel(\"16-Adaboost.xlsx\", usecols=[0, 1, 2], header=3)[:10].astype(np.float64)\n",
    "plt.scatter(data.X1[:5], data.X2[:5])\n",
    "plt.scatter(data.X1[5:], data.X2[5:])"
   ]
  },
  {
   "cell_type": "markdown",
   "metadata": {},
   "source": [
    "## 重みを更新しながら各Modelで予測する"
   ]
  },
  {
   "cell_type": "code",
   "execution_count": 3,
   "metadata": {},
   "outputs": [],
   "source": [
    "condition = pd.Series(dtype=np.float64)\n",
    "condition['Model1'] = data['X1'] <= 4.932600453\n",
    "condition['Model2'] = data['X2'] > 2.122873405\n",
    "condition['Model3'] = data['X2'] > 0.862698005"
   ]
  },
  {
   "cell_type": "code",
   "execution_count": 4,
   "metadata": {},
   "outputs": [],
   "source": [
    "predict = pd.DataFrame()\n",
    "weight = np.array([1 / len(data)] * len(data))\n",
    "for column, cond in condition.iteritems():\n",
    "    output = np.where(cond, 0, 1)\n",
    "    error = np.where(output == data['Y'], 0, 1)\n",
    "    weighted_error = weight * error\n",
    "    misrate = np.sum(weighted_error) / np.sum(weight)\n",
    "    stage = np.log((1 - misrate) / misrate)\n",
    "    predict[column] = stage * np.where(output == 0, -1, 1)\n",
    "    weight *= np.exp(stage * weighted_error)"
   ]
  },
  {
   "cell_type": "markdown",
   "metadata": {},
   "source": [
    "## 各Modelの予測結果から予測する"
   ]
  },
  {
   "cell_type": "code",
   "execution_count": 5,
   "metadata": {},
   "outputs": [
    {
     "data": {
      "text/html": [
       "<div>\n",
       "<style scoped>\n",
       "    .dataframe tbody tr th:only-of-type {\n",
       "        vertical-align: middle;\n",
       "    }\n",
       "\n",
       "    .dataframe tbody tr th {\n",
       "        vertical-align: top;\n",
       "    }\n",
       "\n",
       "    .dataframe thead th {\n",
       "        text-align: right;\n",
       "    }\n",
       "</style>\n",
       "<table border=\"1\" class=\"dataframe\">\n",
       "  <thead>\n",
       "    <tr style=\"text-align: right;\">\n",
       "      <th></th>\n",
       "      <th>Model1</th>\n",
       "      <th>Model2</th>\n",
       "      <th>Model3</th>\n",
       "      <th>final</th>\n",
       "    </tr>\n",
       "  </thead>\n",
       "  <tbody>\n",
       "    <tr>\n",
       "      <th>0</th>\n",
       "      <td>-2.197225</td>\n",
       "      <td>-1.416548</td>\n",
       "      <td>-1.452794</td>\n",
       "      <td>0</td>\n",
       "    </tr>\n",
       "    <tr>\n",
       "      <th>1</th>\n",
       "      <td>-2.197225</td>\n",
       "      <td>-1.416548</td>\n",
       "      <td>-1.452794</td>\n",
       "      <td>0</td>\n",
       "    </tr>\n",
       "    <tr>\n",
       "      <th>2</th>\n",
       "      <td>-2.197225</td>\n",
       "      <td>1.416548</td>\n",
       "      <td>-1.452794</td>\n",
       "      <td>0</td>\n",
       "    </tr>\n",
       "    <tr>\n",
       "      <th>3</th>\n",
       "      <td>-2.197225</td>\n",
       "      <td>1.416548</td>\n",
       "      <td>-1.452794</td>\n",
       "      <td>0</td>\n",
       "    </tr>\n",
       "    <tr>\n",
       "      <th>4</th>\n",
       "      <td>-2.197225</td>\n",
       "      <td>-1.416548</td>\n",
       "      <td>-1.452794</td>\n",
       "      <td>0</td>\n",
       "    </tr>\n",
       "    <tr>\n",
       "      <th>5</th>\n",
       "      <td>2.197225</td>\n",
       "      <td>1.416548</td>\n",
       "      <td>-1.452794</td>\n",
       "      <td>1</td>\n",
       "    </tr>\n",
       "    <tr>\n",
       "      <th>6</th>\n",
       "      <td>2.197225</td>\n",
       "      <td>1.416548</td>\n",
       "      <td>1.452794</td>\n",
       "      <td>1</td>\n",
       "    </tr>\n",
       "    <tr>\n",
       "      <th>7</th>\n",
       "      <td>2.197225</td>\n",
       "      <td>1.416548</td>\n",
       "      <td>-1.452794</td>\n",
       "      <td>1</td>\n",
       "    </tr>\n",
       "    <tr>\n",
       "      <th>8</th>\n",
       "      <td>2.197225</td>\n",
       "      <td>1.416548</td>\n",
       "      <td>1.452794</td>\n",
       "      <td>1</td>\n",
       "    </tr>\n",
       "    <tr>\n",
       "      <th>9</th>\n",
       "      <td>-2.197225</td>\n",
       "      <td>1.416548</td>\n",
       "      <td>1.452794</td>\n",
       "      <td>1</td>\n",
       "    </tr>\n",
       "  </tbody>\n",
       "</table>\n",
       "</div>"
      ],
      "text/plain": [
       "     Model1    Model2    Model3  final\n",
       "0 -2.197225 -1.416548 -1.452794      0\n",
       "1 -2.197225 -1.416548 -1.452794      0\n",
       "2 -2.197225  1.416548 -1.452794      0\n",
       "3 -2.197225  1.416548 -1.452794      0\n",
       "4 -2.197225 -1.416548 -1.452794      0\n",
       "5  2.197225  1.416548 -1.452794      1\n",
       "6  2.197225  1.416548  1.452794      1\n",
       "7  2.197225  1.416548 -1.452794      1\n",
       "8  2.197225  1.416548  1.452794      1\n",
       "9 -2.197225  1.416548  1.452794      1"
      ]
     },
     "execution_count": 5,
     "metadata": {},
     "output_type": "execute_result"
    }
   ],
   "source": [
    "predict['final'] = np.where(predict.T.sum().T < 0, 0, 1)\n",
    "predict"
   ]
  },
  {
   "cell_type": "markdown",
   "metadata": {},
   "source": [
    "## 精度を確かめる"
   ]
  },
  {
   "cell_type": "code",
   "execution_count": 6,
   "metadata": {},
   "outputs": [
    {
     "name": "stdout",
     "output_type": "stream",
     "text": [
      "100.0%\n"
     ]
    }
   ],
   "source": [
    "accuracy = (predict['final'] == data['Y']).sum() / len(data)\n",
    "print(str(accuracy * 100) +'%')"
   ]
  }
 ],
 "metadata": {
  "kernelspec": {
   "display_name": "Python 3 (ipykernel)",
   "language": "python",
   "name": "python3"
  },
  "language_info": {
   "codemirror_mode": {
    "name": "ipython",
    "version": 3
   },
   "file_extension": ".py",
   "mimetype": "text/x-python",
   "name": "python",
   "nbconvert_exporter": "python",
   "pygments_lexer": "ipython3",
   "version": "3.8.0"
  }
 },
 "nbformat": 4,
 "nbformat_minor": 2
}

{
 "cells": [
  {
   "cell_type": "code",
   "execution_count": 1,
   "id": "2560a3a8",
   "metadata": {},
   "outputs": [],
   "source": [
    "import fuzzylite as fl"
   ]
  },
  {
   "cell_type": "code",
   "execution_count": 2,
   "id": "6aa69f8d",
   "metadata": {},
   "outputs": [],
   "source": [
    "engine = fl.Engine(\n",
    "    name=\"SimpleDimmer\",\n",
    "    description=\"Simple Dimmer Fuzzy System which dims light based upon Light Condtions\"\n",
    ")"
   ]
  },
  {
   "cell_type": "code",
   "execution_count": 3,
   "id": "4d2b589e",
   "metadata": {},
   "outputs": [],
   "source": [
    "engine.input_variables = [\n",
    "    fl.InputVariable(\n",
    "        name=\"Ambient\",\n",
    "        description=\"\",\n",
    "        enabled=True,\n",
    "        minimum=0.000,\n",
    "        maximum=1.000,\n",
    "        lock_range=False,\n",
    "        terms=[\n",
    "            fl.Bell(\"DARK\", -10.000, 5.000, 3.000),\n",
    "            fl.Bell(\"MEDIUM\", 0.000, 5.000, 3.000),\n",
    "            fl.Bell(\"BRIGHT\", 10.500, 5.000, 3.000)\n",
    "        ]\n",
    "    )\n",
    "]"
   ]
  },
  {
   "cell_type": "code",
   "execution_count": 4,
   "id": "187345f7",
   "metadata": {},
   "outputs": [],
   "source": [
    "engine.output_variables = [\n",
    "    fl.OutputVariable(\n",
    "        name=\"Power\",\n",
    "        description=\"\",\n",
    "        enabled=True,\n",
    "        minimum=0.000,\n",
    "        maximum=1.000,\n",
    "        lock_range=False,\n",
    "        aggregation=fl.Maximum(),\n",
    "        defuzzifier=fl.Centroid(200),\n",
    "        lock_previous=False,\n",
    "        terms=[\n",
    "            fl.Sigmoid(\"LOW\", 0.500, -30.000),\n",
    "            fl.Sigmoid(\"MEDIUM\", 0.130, 30.000),\n",
    "            fl.Sigmoid(\"HIGH\", 0.830, 30.000), \n",
    "            fl.Triangle(\"HIGH\", 0.500, 0.750, 1.000)\n",
    "        ]\n",
    "    )\n",
    "]"
   ]
  },
  {
   "cell_type": "code",
   "execution_count": 5,
   "id": "41cabd79",
   "metadata": {},
   "outputs": [],
   "source": [
    "engine.rule_blocks = [\n",
    "    fl.RuleBlock(\n",
    "        name=\"\",\n",
    "        description=\"\",\n",
    "        enabled=True,\n",
    "        conjunction=None,\n",
    "        disjunction=None,\n",
    "        implication=None, \n",
    "        activation=fl.General(),\n",
    "        rules=[\n",
    "            fl.Rule.create(\"if Ambient is DARK then Power is HIGH\", engine), \n",
    "            fl.Rule.create(\"if Ambient is MEDIUM then Power is MEDIUM\", engine), \n",
    "            fl.Rule.create(\"if Ambient is BRIGHT then Power is LOW\", engine)\n",
    "        ]\n",
    "    )\n",
    "]"
   ]
  }
 ],
 "metadata": {
  "kernelspec": {
   "display_name": "Python 3 (ipykernel)",
   "language": "python",
   "name": "python3"
  },
  "language_info": {
   "codemirror_mode": {
    "name": "ipython",
    "version": 3
   },
   "file_extension": ".py",
   "mimetype": "text/x-python",
   "name": "python",
   "nbconvert_exporter": "python",
   "pygments_lexer": "ipython3",
   "version": "3.8.0"
  }
 },
 "nbformat": 4,
 "nbformat_minor": 5
}

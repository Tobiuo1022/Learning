{
 "cells": [
  {
   "cell_type": "code",
   "execution_count": 1,
   "id": "ded0285c",
   "metadata": {},
   "outputs": [],
   "source": [
    "import fuzzylite as fl"
   ]
  },
  {
   "cell_type": "code",
   "execution_count": 2,
   "id": "d541b4ac",
   "metadata": {},
   "outputs": [],
   "source": [
    "engine = fl.Engine(\n",
    "    name=\"SimpleDimmer\",\n",
    "    description=\"Simple Dimmer Fuzzy System which dims light based upon Light Condtions\"\n",
    ")"
   ]
  },
  {
   "cell_type": "code",
   "execution_count": 3,
   "id": "f12ada46",
   "metadata": {},
   "outputs": [],
   "source": [
    "engine.input_variables = [\n",
    "    fl.InputVariable(\n",
    "        name=\"Ambient\",\n",
    "        description=\"\",\n",
    "        enabled=True,\n",
    "        minimum=0.000,\n",
    "        maximum=1.000,\n",
    "        lock_range=False,\n",
    "        terms=[\n",
    "            fl.Triangle(\"DARK\", 0.000, 0.250, 0.500),\n",
    "            fl.Triangle(\"MEDIUM\", 0.250, 0.500, 0.750),\n",
    "            fl.Triangle(\"BRIGHT\", 0.500, 0.750, 1.000)\n",
    "        ]\n",
    "    )\n",
    "]"
   ]
  },
  {
   "cell_type": "code",
   "execution_count": 4,
   "id": "94415944",
   "metadata": {},
   "outputs": [],
   "source": [
    "engine.output_variables = [\n",
    "    fl.OutputVariable(\n",
    "        name=\"Power\",\n",
    "        description=\"\",\n",
    "        enabled=True,\n",
    "        minimum=0.000,\n",
    "        maximum=1.000,\n",
    "        lock_range=False,\n",
    "        aggregation=None,\n",
    "        defuzzifier=fl.WeightedAverage(\"TakagiSugeno\"), \n",
    "        lock_previous=False,\n",
    "        terms=[\n",
    "            fl.Constant(\"LOW\", 0.250), \n",
    "            fl.Constant(\"MEDIUM\", 0.500), \n",
    "            fl.Constant(\"HIGH\", 0.750), \n",
    "        ]\n",
    "    )\n",
    "]"
   ]
  },
  {
   "cell_type": "code",
   "execution_count": 5,
   "id": "4c640924",
   "metadata": {},
   "outputs": [],
   "source": [
    "engine.rule_blocks = [\n",
    "    fl.RuleBlock(\n",
    "        name=\"\",\n",
    "        description=\"\",\n",
    "        enabled=True,\n",
    "        conjunction=None,\n",
    "        disjunction=None,\n",
    "        implication=None, \n",
    "        activation=fl.General(),\n",
    "        rules=[\n",
    "            fl.Rule.create(\"if Ambient is DARK then Power is HIGH\", engine), \n",
    "            fl.Rule.create(\"if Ambient is MEDIUM then Power is MEDIUM\", engine), \n",
    "            fl.Rule.create(\"if Ambient is BRIGHT then Power is LOW\", engine)\n",
    "        ]\n",
    "    )\n",
    "]"
   ]
  }
 ],
 "metadata": {
  "kernelspec": {
   "display_name": "Python 3",
   "language": "python",
   "name": "python3"
  },
  "language_info": {
   "codemirror_mode": {
    "name": "ipython",
    "version": 3
   },
   "file_extension": ".py",
   "mimetype": "text/x-python",
   "name": "python",
   "nbconvert_exporter": "python",
   "pygments_lexer": "ipython3",
   "version": "3.8.0"
  }
 },
 "nbformat": 4,
 "nbformat_minor": 5
}

{
 "cells": [
  {
   "cell_type": "code",
   "execution_count": 1,
   "id": "4a7aaaf4",
   "metadata": {},
   "outputs": [],
   "source": [
    "from tensorflow.keras.datasets import mnist\n",
    "from tensorflow.keras.layers import Dense, Conv2D, Flatten\n",
    "from tensorflow.keras.models import Sequential\n",
    "from tensorflow.keras.utils import to_categorical\n",
    "import matplotlib.pyplot as plt\n",
    "%matplotlib inline"
   ]
  },
  {
   "cell_type": "markdown",
   "id": "6cd01783",
   "metadata": {},
   "source": [
    "## mnistのdataをダウンロードする"
   ]
  },
  {
   "cell_type": "code",
   "execution_count": 2,
   "id": "d2686ed1",
   "metadata": {},
   "outputs": [],
   "source": [
    "(X_train, y_train), (X_test, y_test) = mnist.load_data()"
   ]
  },
  {
   "cell_type": "markdown",
   "id": "f4ad2343",
   "metadata": {},
   "source": [
    "## dataの一部を見てみる"
   ]
  },
  {
   "cell_type": "code",
   "execution_count": 3,
   "id": "6a6ad303",
   "metadata": {},
   "outputs": [
    {
     "data": {
      "image/png": "[encoded data removed]",
      "text/plain": [
       "<Figure size 432x288 with 1 Axes>"
      ]
     },
     "metadata": {
      "needs_background": "light"
     },
     "output_type": "display_data"
    },
    {
     "data": {
      "image/png": "[encoded data removed]",
      "text/plain": [
       "<Figure size 432x288 with 1 Axes>"
      ]
     },
     "metadata": {
      "needs_background": "light"
     },
     "output_type": "display_data"
    }
   ],
   "source": [
    "f1 = plt.figure(1)\n",
    "plt.imshow(X_train[0])\n",
    "f2 = plt.figure(2)\n",
    "plt.imshow(X_train[1])\n",
    "plt.show()"
   ]
  },
  {
   "cell_type": "markdown",
   "id": "a58b861d",
   "metadata": {},
   "source": [
    "## 訓練用datasetをreshapeする"
   ]
  },
  {
   "cell_type": "code",
   "execution_count": 4,
   "id": "2d5d206d",
   "metadata": {},
   "outputs": [
    {
     "name": "stdout",
     "output_type": "stream",
     "text": [
      "(28, 28) 60000\n",
      "(28, 28) 10000\n"
     ]
    }
   ],
   "source": [
    "print(X_train[0].shape, len(X_train))\n",
    "print(X_test[0].shape, len(X_test))"
   ]
  },
  {
   "cell_type": "code",
   "execution_count": 5,
   "id": "689f79c3",
   "metadata": {},
   "outputs": [],
   "source": [
    "X_train = X_train.reshape(len(X_train), 28, 28, 1)\n",
    "X_test = X_test.reshape(len(X_test), 28, 28, 1)"
   ]
  },
  {
   "cell_type": "markdown",
   "id": "e91933e3",
   "metadata": {},
   "source": [
    "## target変数をOne-hot Encodeする"
   ]
  },
  {
   "cell_type": "code",
   "execution_count": 6,
   "id": "0abeae40",
   "metadata": {},
   "outputs": [
    {
     "data": {
      "text/plain": [
       "array([0., 0., 0., 0., 0., 1., 0., 0., 0., 0.], dtype=float32)"
      ]
     },
     "execution_count": 6,
     "metadata": {},
     "output_type": "execute_result"
    }
   ],
   "source": [
    "y_train = to_categorical(y_train)\n",
    "y_test = to_categorical(y_test)\n",
    "y_train[0]"
   ]
  },
  {
   "cell_type": "markdown",
   "id": "a64b7d7e",
   "metadata": {},
   "source": [
    "## Modelを作る"
   ]
  },
  {
   "cell_type": "code",
   "execution_count": 7,
   "id": "713509a8",
   "metadata": {},
   "outputs": [
    {
     "name": "stderr",
     "output_type": "stream",
     "text": [
      "2021-07-26 23:28:16.462169: I tensorflow/core/platform/cpu_feature_guard.cc:142] This TensorFlow binary is optimized with oneAPI Deep Neural Network Library (oneDNN) to use the following CPU instructions in performance-critical operations:  AVX2 FMA\n",
      "To enable them in other operations, rebuild TensorFlow with the appropriate compiler flags.\n"
     ]
    }
   ],
   "source": [
    "model = Sequential()"
   ]
  },
  {
   "cell_type": "markdown",
   "id": "222619f4",
   "metadata": {},
   "source": [
    "## Modelにlayerを追加する"
   ]
  },
  {
   "cell_type": "code",
   "execution_count": 8,
   "id": "ff347ef2",
   "metadata": {},
   "outputs": [],
   "source": [
    "model.add(Conv2D(64, kernel_size=3, activation='relu', input_shape=(28, 28, 1)))\n",
    "model.add(Conv2D(32, kernel_size=3, activation='relu'))\n",
    "model.add(Flatten())\n",
    "model.add(Dense(10, activation='softmax'))"
   ]
  },
  {
   "cell_type": "markdown",
   "id": "80e966c9",
   "metadata": {},
   "source": [
    "## Modelの設定を行う\n",
    "- optimizer: 最適化アルゴリズムにはadam algorithmを用いる\n",
    "- loss: 損失関数には交差エントロピー誤差を用いる\n",
    "- metrics: 評価関数にはaccuracyを用いる"
   ]
  },
  {
   "cell_type": "code",
   "execution_count": 9,
   "id": "91909794",
   "metadata": {},
   "outputs": [],
   "source": [
    "model.compile(optimizer='adam', loss='categorical_crossentropy', metrics=['accuracy'])"
   ]
  },
  {
   "cell_type": "markdown",
   "id": "0b362a2d",
   "metadata": {},
   "source": [
    "## 学習"
   ]
  },
  {
   "cell_type": "code",
   "execution_count": 10,
   "id": "a5f15df5",
   "metadata": {},
   "outputs": [
    {
     "name": "stderr",
     "output_type": "stream",
     "text": [
      "2021-07-26 23:28:17.108775: I tensorflow/compiler/mlir/mlir_graph_optimization_pass.cc:176] None of the MLIR Optimization Passes are enabled (registered 2)\n"
     ]
    },
    {
     "name": "stdout",
     "output_type": "stream",
     "text": [
      "Epoch 1/3\n",
      "1875/1875 [==============================] - 80s 42ms/step - loss: 0.1976 - accuracy: 0.9536 - val_loss: 0.1178 - val_accuracy: 0.9666\n",
      "Epoch 2/3\n",
      "1875/1875 [==============================] - 85s 45ms/step - loss: 0.0620 - accuracy: 0.9807 - val_loss: 0.0722 - val_accuracy: 0.9772\n",
      "Epoch 3/3\n",
      "1875/1875 [==============================] - 82s 44ms/step - loss: 0.0457 - accuracy: 0.9853 - val_loss: 0.0950 - val_accuracy: 0.9744\n"
     ]
    },
    {
     "data": {
      "text/plain": [
       "<tensorflow.python.keras.callbacks.History at 0x158543a90>"
      ]
     },
     "execution_count": 10,
     "metadata": {},
     "output_type": "execute_result"
    }
   ],
   "source": [
    "model.fit(X_train, y_train, validation_data=(X_test, y_test), epochs=3)"
   ]
  },
  {
   "cell_type": "markdown",
   "id": "d2486688",
   "metadata": {},
   "source": [
    "## testデータを用いて推測する"
   ]
  },
  {
   "cell_type": "code",
   "execution_count": 11,
   "id": "0c80abca",
   "metadata": {},
   "outputs": [
    {
     "data": {
      "text/plain": [
       "array([[5.1584188e-12, 7.2875793e-15, 1.0982925e-09, 2.3948570e-07,\n",
       "        1.0630228e-12, 2.9686576e-11, 1.3659761e-17, 9.9999976e-01,\n",
       "        8.0254459e-10, 2.3344178e-08],\n",
       "       [3.3311292e-06, 4.6960520e-07, 9.9997854e-01, 1.6194846e-05,\n",
       "        9.6500370e-11, 5.5080211e-14, 1.4153451e-06, 6.8670797e-10,\n",
       "        2.1754929e-08, 1.1515045e-14],\n",
       "       [2.8777475e-07, 9.9977952e-01, 2.6307501e-07, 5.2306359e-10,\n",
       "        3.7088981e-07, 5.3444278e-08, 2.4908033e-09, 3.9994470e-09,\n",
       "        2.1949415e-04, 4.3753832e-09],\n",
       "       [9.9999869e-01, 1.7278857e-11, 4.3621668e-07, 1.7335636e-11,\n",
       "        9.0422824e-13, 5.2723707e-11, 3.5789540e-08, 5.0181066e-12,\n",
       "        7.1625962e-08, 7.6961106e-07],\n",
       "       [7.3284084e-10, 1.3045612e-11, 3.5857545e-12, 8.8273477e-10,\n",
       "        9.9999940e-01, 2.3121231e-12, 4.7235909e-16, 8.0220943e-13,\n",
       "        8.4880436e-10, 6.0936708e-07],\n",
       "       [6.4140664e-08, 9.9081272e-01, 1.9092354e-09, 7.3256838e-11,\n",
       "        2.3840091e-08, 1.3365524e-09, 3.9020520e-13, 1.9885586e-06,\n",
       "        9.1847274e-03, 4.4992393e-07]], dtype=float32)"
      ]
     },
     "execution_count": 11,
     "metadata": {},
     "output_type": "execute_result"
    }
   ],
   "source": [
    "model.predict(X_test[:6])"
   ]
  },
  {
   "cell_type": "code",
   "execution_count": 12,
   "id": "e93bad1d",
   "metadata": {},
   "outputs": [
    {
     "data": {
      "text/plain": [
       "array([[0., 0., 0., 0., 0., 0., 0., 1., 0., 0.],\n",
       "       [0., 0., 1., 0., 0., 0., 0., 0., 0., 0.],\n",
       "       [0., 1., 0., 0., 0., 0., 0., 0., 0., 0.],\n",
       "       [1., 0., 0., 0., 0., 0., 0., 0., 0., 0.],\n",
       "       [0., 0., 0., 0., 1., 0., 0., 0., 0., 0.],\n",
       "       [0., 1., 0., 0., 0., 0., 0., 0., 0., 0.]], dtype=float32)"
      ]
     },
     "execution_count": 12,
     "metadata": {},
     "output_type": "execute_result"
    }
   ],
   "source": [
    "y_test[:6]"
   ]
  }
 ],
 "metadata": {
  "kernelspec": {
   "display_name": "Python 3 (ipykernel)",
   "language": "python",
   "name": "python3"
  },
  "language_info": {
   "codemirror_mode": {
    "name": "ipython",
    "version": 3
   },
   "file_extension": ".py",
   "mimetype": "text/x-python",
   "name": "python",
   "nbconvert_exporter": "python",
   "pygments_lexer": "ipython3",
   "version": "3.8.0"
  }
 },
 "nbformat": 4,
 "nbformat_minor": 5
}

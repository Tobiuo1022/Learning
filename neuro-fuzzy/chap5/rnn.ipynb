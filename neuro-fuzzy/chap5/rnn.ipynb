{
 "cells": [
  {
   "cell_type": "code",
   "execution_count": 1,
   "id": "7b23fb2e",
   "metadata": {},
   "outputs": [],
   "source": [
    "from tensorflow.keras.models import Sequential\n",
    "from tensorflow.keras.layers import Dense, SimpleRNN\n",
    "import matplotlib.pyplot as plt\n",
    "import numpy as np\n",
    "import pandas as pd\n",
    "%matplotlib inline"
   ]
  },
  {
   "cell_type": "markdown",
   "id": "5ae84909",
   "metadata": {},
   "source": [
    "## 無作為なdataを生成する\n",
    "$\\sin(0) + 1 \\le x \\le \\sin(20) + 1$\n",
    "\n",
    "$0 \\le x \\le 2$\n",
    "\n",
    "ただし, それぞれ最大1の誤差がある"
   ]
  },
  {
   "cell_type": "code",
   "execution_count": 2,
   "id": "88b8f4c2",
   "metadata": {},
   "outputs": [
    {
     "data": {
      "text/html": [
       "<div>\n",
       "<style scoped>\n",
       "    .dataframe tbody tr th:only-of-type {\n",
       "        vertical-align: middle;\n",
       "    }\n",
       "\n",
       "    .dataframe tbody tr th {\n",
       "        vertical-align: top;\n",
       "    }\n",
       "\n",
       "    .dataframe thead th {\n",
       "        text-align: right;\n",
       "    }\n",
       "</style>\n",
       "<table border=\"1\" class=\"dataframe\">\n",
       "  <thead>\n",
       "    <tr style=\"text-align: right;\">\n",
       "      <th></th>\n",
       "      <th>0</th>\n",
       "    </tr>\n",
       "  </thead>\n",
       "  <tbody>\n",
       "    <tr>\n",
       "      <th>0</th>\n",
       "      <td>1.249634</td>\n",
       "    </tr>\n",
       "    <tr>\n",
       "      <th>1</th>\n",
       "      <td>1.650727</td>\n",
       "    </tr>\n",
       "    <tr>\n",
       "      <th>2</th>\n",
       "      <td>1.850364</td>\n",
       "    </tr>\n",
       "    <tr>\n",
       "      <th>3</th>\n",
       "      <td>1.605126</td>\n",
       "    </tr>\n",
       "    <tr>\n",
       "      <th>4</th>\n",
       "      <td>2.013599</td>\n",
       "    </tr>\n",
       "  </tbody>\n",
       "</table>\n",
       "</div>"
      ],
      "text/plain": [
       "          0\n",
       "0  1.249634\n",
       "1  1.650727\n",
       "2  1.850364\n",
       "3  1.605126\n",
       "4  2.013599"
      ]
     },
     "execution_count": 2,
     "metadata": {},
     "output_type": "execute_result"
    }
   ],
   "source": [
    "t = np.arange(0, 1000)\n",
    "x = np.sin(0.02 * t) + 1 + np.random.rand(1000)\n",
    "df = pd.DataFrame(x)\n",
    "df.head()"
   ]
  },
  {
   "cell_type": "markdown",
   "id": "13580013",
   "metadata": {},
   "source": [
    "## 訓練用とテスト用に分ける"
   ]
  },
  {
   "cell_type": "code",
   "execution_count": 3,
   "id": "2a6fad83",
   "metadata": {},
   "outputs": [],
   "source": [
    "values = df.values\n",
    "train, test = values[0:800, :], values[800:1000, :]"
   ]
  },
  {
   "cell_type": "markdown",
   "id": "b8069faa",
   "metadata": {},
   "source": [
    "## dataを行列に変換する"
   ]
  },
  {
   "cell_type": "code",
   "execution_count": 4,
   "id": "b92ec1aa",
   "metadata": {},
   "outputs": [],
   "source": [
    "def convertToMatrix(data, step=4):\n",
    "    X, Y = [], []\n",
    "    for i in range(len(data) - step):\n",
    "        d = i + step\n",
    "        X.append(data[i:d])\n",
    "        Y.append(data[d])\n",
    "    return np.array(X), np.array(Y)"
   ]
  },
  {
   "cell_type": "code",
   "execution_count": 5,
   "id": "87dd7307",
   "metadata": {},
   "outputs": [],
   "source": [
    "trainX, trainY = convertToMatrix(train, 6)\n",
    "testX, testY = convertToMatrix(test, 6)\n",
    "trainX = np.reshape(trainX, (trainX.shape[0], 1, trainX.shape[1]))\n",
    "testX = np.reshape(testX, (testX.shape[0], 1, testX.shape[1]))"
   ]
  },
  {
   "cell_type": "markdown",
   "id": "102e424c",
   "metadata": {},
   "source": [
    "## Modelを作成する"
   ]
  },
  {
   "cell_type": "code",
   "execution_count": 6,
   "id": "483387fc",
   "metadata": {},
   "outputs": [
    {
     "name": "stderr",
     "output_type": "stream",
     "text": [
      "2021-07-27 16:52:00.580166: I tensorflow/core/platform/cpu_feature_guard.cc:142] This TensorFlow binary is optimized with oneAPI Deep Neural Network Library (oneDNN) to use the following CPU instructions in performance-critical operations:  AVX2 FMA\n",
      "To enable them in other operations, rebuild TensorFlow with the appropriate compiler flags.\n"
     ]
    }
   ],
   "source": [
    "model = Sequential()"
   ]
  },
  {
   "cell_type": "markdown",
   "id": "b7894806",
   "metadata": {},
   "source": [
    "## Modelにlayerを追加する"
   ]
  },
  {
   "cell_type": "code",
   "execution_count": 7,
   "id": "204f2cda",
   "metadata": {},
   "outputs": [],
   "source": [
    "model.add(SimpleRNN(units=32, input_shape=(1, 6), activation='relu'))\n",
    "model.add(Dense(8, activation='relu'))\n",
    "model.add(Dense(1))"
   ]
  },
  {
   "cell_type": "markdown",
   "id": "cfb3eae3",
   "metadata": {},
   "source": [
    "## Modelの設定を行う\n",
    "- loss: 損失関数には平均二乗誤差を用いる\n",
    "- optimizer: 最適化アルゴリズムにはRMSPropを用いる"
   ]
  },
  {
   "cell_type": "code",
   "execution_count": 8,
   "id": "92152912",
   "metadata": {},
   "outputs": [],
   "source": [
    "model.compile(loss='mean_squared_error', optimizer='rmsprop')"
   ]
  },
  {
   "cell_type": "markdown",
   "id": "50d194df",
   "metadata": {},
   "source": [
    "## 作成したModelの概要を見る"
   ]
  },
  {
   "cell_type": "code",
   "execution_count": 9,
   "id": "418794e3",
   "metadata": {},
   "outputs": [
    {
     "name": "stdout",
     "output_type": "stream",
     "text": [
      "Model: \"sequential\"\n",
      "_________________________________________________________________\n",
      "Layer (type)                 Output Shape              Param #   \n",
      "=================================================================\n",
      "simple_rnn (SimpleRNN)       (None, 32)                1248      \n",
      "_________________________________________________________________\n",
      "dense (Dense)                (None, 8)                 264       \n",
      "_________________________________________________________________\n",
      "dense_1 (Dense)              (None, 1)                 9         \n",
      "=================================================================\n",
      "Total params: 1,521\n",
      "Trainable params: 1,521\n",
      "Non-trainable params: 0\n",
      "_________________________________________________________________\n"
     ]
    }
   ],
   "source": [
    "model.summary()"
   ]
  },
  {
   "cell_type": "markdown",
   "id": "f8240579",
   "metadata": {},
   "source": [
    "## 学習"
   ]
  },
  {
   "cell_type": "code",
   "execution_count": 10,
   "id": "1dbb170b",
   "metadata": {},
   "outputs": [
    {
     "name": "stderr",
     "output_type": "stream",
     "text": [
      "2021-07-27 16:52:00.874459: I tensorflow/compiler/mlir/mlir_graph_optimization_pass.cc:176] None of the MLIR Optimization Passes are enabled (registered 2)\n"
     ]
    },
    {
     "name": "stdout",
     "output_type": "stream",
     "text": [
      "Epoch 1/30\n",
      "2/2 - 1s - loss: 6.5795\n",
      "Epoch 2/30\n",
      "2/2 - 0s - loss: 5.3078\n",
      "Epoch 3/30\n",
      "2/2 - 0s - loss: 4.5224\n",
      "Epoch 4/30\n",
      "2/2 - 0s - loss: 3.9132\n",
      "Epoch 5/30\n",
      "2/2 - 0s - loss: 3.4006\n",
      "Epoch 6/30\n",
      "2/2 - 0s - loss: 2.9563\n",
      "Epoch 7/30\n",
      "2/2 - 0s - loss: 2.5653\n",
      "Epoch 8/30\n",
      "2/2 - 0s - loss: 2.2243\n",
      "Epoch 9/30\n",
      "2/2 - 0s - loss: 1.9293\n",
      "Epoch 10/30\n",
      "2/2 - 0s - loss: 1.6676\n",
      "Epoch 11/30\n",
      "2/2 - 0s - loss: 1.4357\n",
      "Epoch 12/30\n",
      "2/2 - 0s - loss: 1.2248\n",
      "Epoch 13/30\n",
      "2/2 - 0s - loss: 1.0334\n",
      "Epoch 14/30\n",
      "2/2 - 0s - loss: 0.8647\n",
      "Epoch 15/30\n",
      "2/2 - 0s - loss: 0.7173\n",
      "Epoch 16/30\n",
      "2/2 - 0s - loss: 0.5897\n",
      "Epoch 17/30\n",
      "2/2 - 0s - loss: 0.4825\n",
      "Epoch 18/30\n",
      "2/2 - 0s - loss: 0.3937\n",
      "Epoch 19/30\n",
      "2/2 - 0s - loss: 0.3224\n",
      "Epoch 20/30\n",
      "2/2 - 0s - loss: 0.2665\n",
      "Epoch 21/30\n",
      "2/2 - 0s - loss: 0.2240\n",
      "Epoch 22/30\n",
      "2/2 - 0s - loss: 0.1923\n",
      "Epoch 23/30\n",
      "2/2 - 0s - loss: 0.1695\n",
      "Epoch 24/30\n",
      "2/2 - 0s - loss: 0.1539\n",
      "Epoch 25/30\n",
      "2/2 - 0s - loss: 0.1435\n",
      "Epoch 26/30\n",
      "2/2 - 0s - loss: 0.1364\n",
      "Epoch 27/30\n",
      "2/2 - 0s - loss: 0.1311\n",
      "Epoch 28/30\n",
      "2/2 - 0s - loss: 0.1272\n",
      "Epoch 29/30\n",
      "2/2 - 0s - loss: 0.1241\n",
      "Epoch 30/30\n",
      "2/2 - 0s - loss: 0.1217\n"
     ]
    },
    {
     "data": {
      "text/plain": [
       "<tensorflow.python.keras.callbacks.History at 0x14b303e80>"
      ]
     },
     "execution_count": 10,
     "metadata": {},
     "output_type": "execute_result"
    }
   ],
   "source": [
    "model.fit(trainX, trainY, epochs=30, batch_size=500, verbose=2)"
   ]
  },
  {
   "cell_type": "markdown",
   "id": "ec25f5f1",
   "metadata": {},
   "source": [
    "## 予測する"
   ]
  },
  {
   "cell_type": "code",
   "execution_count": 11,
   "id": "fccf272c",
   "metadata": {},
   "outputs": [],
   "source": [
    "trainPredict = model.predict(trainX)\n",
    "testPredict = model.predict(testX)\n",
    "predicted = np.concatenate((trainPredict, testPredict), axis=0)"
   ]
  },
  {
   "cell_type": "code",
   "execution_count": 12,
   "id": "443af1d3",
   "metadata": {},
   "outputs": [
    {
     "data": {
      "text/plain": [
       "[<matplotlib.lines.Line2D at 0x14bbfb400>]"
      ]
     },
     "execution_count": 12,
     "metadata": {},
     "output_type": "execute_result"
    },
    {
     "data": {
      "image/png": "[encoded data removed]",
      "text/plain": [
       "<Figure size 432x288 with 1 Axes>"
      ]
     },
     "metadata": {
      "needs_background": "light"
     },
     "output_type": "display_data"
    }
   ],
   "source": [
    "plt.figure()\n",
    "plt.plot(x)\n",
    "plt.plot(predicted)"
   ]
  }
 ],
 "metadata": {
  "kernelspec": {
   "display_name": "Python 3 (ipykernel)",
   "language": "python",
   "name": "python3"
  },
  "language_info": {
   "codemirror_mode": {
    "name": "ipython",
    "version": 3
   },
   "file_extension": ".py",
   "mimetype": "text/x-python",
   "name": "python",
   "nbconvert_exporter": "python",
   "pygments_lexer": "ipython3",
   "version": "3.8.0"
  }
 },
 "nbformat": 4,
 "nbformat_minor": 5
}

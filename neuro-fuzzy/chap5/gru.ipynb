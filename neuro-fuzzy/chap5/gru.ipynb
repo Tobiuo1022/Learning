{
 "cells": [
  {
   "cell_type": "code",
   "execution_count": 1,
   "id": "7080cdfe",
   "metadata": {},
   "outputs": [],
   "source": [
    "from tensorflow.keras.models import Sequential\n",
    "from tensorflow.keras.layers import Dense, GRU\n",
    "import matplotlib.pyplot as plt\n",
    "import numpy as np\n",
    "import pandas as pd\n",
    "%matplotlib inline"
   ]
  },
  {
   "cell_type": "markdown",
   "id": "dfb20806",
   "metadata": {},
   "source": [
    "## 無作為なdataを生成する\n",
    "$\\sin(0) + 1 \\le x \\le \\sin(20) + 1$\n",
    "\n",
    "$0 \\le x \\le 2$\n",
    "\n",
    "ただし, それぞれ最大1の誤差がある"
   ]
  },
  {
   "cell_type": "code",
   "execution_count": 2,
   "id": "22e3af70",
   "metadata": {},
   "outputs": [
    {
     "data": {
      "text/html": [
       "<div>\n",
       "<style scoped>\n",
       "    .dataframe tbody tr th:only-of-type {\n",
       "        vertical-align: middle;\n",
       "    }\n",
       "\n",
       "    .dataframe tbody tr th {\n",
       "        vertical-align: top;\n",
       "    }\n",
       "\n",
       "    .dataframe thead th {\n",
       "        text-align: right;\n",
       "    }\n",
       "</style>\n",
       "<table border=\"1\" class=\"dataframe\">\n",
       "  <thead>\n",
       "    <tr style=\"text-align: right;\">\n",
       "      <th></th>\n",
       "      <th>0</th>\n",
       "    </tr>\n",
       "  </thead>\n",
       "  <tbody>\n",
       "    <tr>\n",
       "      <th>0</th>\n",
       "      <td>1.117143</td>\n",
       "    </tr>\n",
       "    <tr>\n",
       "      <th>1</th>\n",
       "      <td>1.114447</td>\n",
       "    </tr>\n",
       "    <tr>\n",
       "      <th>2</th>\n",
       "      <td>1.858852</td>\n",
       "    </tr>\n",
       "    <tr>\n",
       "      <th>3</th>\n",
       "      <td>1.320549</td>\n",
       "    </tr>\n",
       "    <tr>\n",
       "      <th>4</th>\n",
       "      <td>1.107610</td>\n",
       "    </tr>\n",
       "  </tbody>\n",
       "</table>\n",
       "</div>"
      ],
      "text/plain": [
       "          0\n",
       "0  1.117143\n",
       "1  1.114447\n",
       "2  1.858852\n",
       "3  1.320549\n",
       "4  1.107610"
      ]
     },
     "execution_count": 2,
     "metadata": {},
     "output_type": "execute_result"
    }
   ],
   "source": [
    "t = np.arange(0, 1000)\n",
    "x = np.sin(0.02 * t) + 1 + np.random.rand(1000)\n",
    "df = pd.DataFrame(x)\n",
    "df.head()"
   ]
  },
  {
   "cell_type": "markdown",
   "id": "e7143c8b",
   "metadata": {},
   "source": [
    "## 訓練用とテスト用に分ける"
   ]
  },
  {
   "cell_type": "code",
   "execution_count": 3,
   "id": "938184a3",
   "metadata": {},
   "outputs": [],
   "source": [
    "values = df.values\n",
    "train, test = values[0:800, :], values[800:1000, :]"
   ]
  },
  {
   "cell_type": "markdown",
   "id": "2f17f628",
   "metadata": {},
   "source": [
    "## dataを行列に変換する"
   ]
  },
  {
   "cell_type": "code",
   "execution_count": 4,
   "id": "da7985b6",
   "metadata": {},
   "outputs": [],
   "source": [
    "def convertToMatrix(data, step=4):\n",
    "    X, Y = [], []\n",
    "    for i in range(len(data) - step):\n",
    "        d = i + step\n",
    "        X.append(data[i:d])\n",
    "        Y.append(data[d])\n",
    "    return np.array(X), np.array(Y)"
   ]
  },
  {
   "cell_type": "code",
   "execution_count": 5,
   "id": "ac63cce5",
   "metadata": {},
   "outputs": [],
   "source": [
    "trainX, trainY = convertToMatrix(train, 6)\n",
    "testX, testY = convertToMatrix(test, 6)\n",
    "trainX = np.reshape(trainX, (trainX.shape[0], 1, trainX.shape[1]))\n",
    "testX = np.reshape(testX, (testX.shape[0], 1, testX.shape[1]))"
   ]
  },
  {
   "cell_type": "markdown",
   "id": "47a242b8",
   "metadata": {},
   "source": [
    "## Modelを作成する"
   ]
  },
  {
   "cell_type": "code",
   "execution_count": 6,
   "id": "ae1bbc57",
   "metadata": {},
   "outputs": [
    {
     "name": "stderr",
     "output_type": "stream",
     "text": [
      "2021-08-08 05:18:05.604384: I tensorflow/core/platform/cpu_feature_guard.cc:142] This TensorFlow binary is optimized with oneAPI Deep Neural Network Library (oneDNN) to use the following CPU instructions in performance-critical operations:  AVX2 FMA\n",
      "To enable them in other operations, rebuild TensorFlow with the appropriate compiler flags.\n"
     ]
    }
   ],
   "source": [
    "model = Sequential()"
   ]
  },
  {
   "cell_type": "markdown",
   "id": "5dbda350",
   "metadata": {},
   "source": [
    "## Modelにlayerを追加する"
   ]
  },
  {
   "cell_type": "code",
   "execution_count": 7,
   "id": "57c14418",
   "metadata": {},
   "outputs": [],
   "source": [
    "model.add(GRU(units=4, input_shape=(1, 6), activation='relu'))\n",
    "model.add(Dense(8, activation='relu'))\n",
    "model.add(Dense(1))"
   ]
  },
  {
   "cell_type": "markdown",
   "id": "11f4d325",
   "metadata": {},
   "source": [
    "## Modelの設定を行う\n",
    "- loss: 損失関数には平均二乗誤差を用いる\n",
    "- optimizer: 最適化アルゴリズムにはRMSPropを用いる"
   ]
  },
  {
   "cell_type": "code",
   "execution_count": 8,
   "id": "d87a26a6",
   "metadata": {},
   "outputs": [],
   "source": [
    "model.compile(loss='mean_squared_error', optimizer='rmsprop')"
   ]
  },
  {
   "cell_type": "markdown",
   "id": "032992b5",
   "metadata": {},
   "source": [
    "## 作成したModelの概要を見る"
   ]
  },
  {
   "cell_type": "code",
   "execution_count": 9,
   "id": "02f818ba",
   "metadata": {},
   "outputs": [
    {
     "name": "stdout",
     "output_type": "stream",
     "text": [
      "Model: \"sequential\"\n",
      "_________________________________________________________________\n",
      "Layer (type)                 Output Shape              Param #   \n",
      "=================================================================\n",
      "gru (GRU)                    (None, 4)                 144       \n",
      "_________________________________________________________________\n",
      "dense (Dense)                (None, 8)                 40        \n",
      "_________________________________________________________________\n",
      "dense_1 (Dense)              (None, 1)                 9         \n",
      "=================================================================\n",
      "Total params: 193\n",
      "Trainable params: 193\n",
      "Non-trainable params: 0\n",
      "_________________________________________________________________\n"
     ]
    }
   ],
   "source": [
    "model.summary()"
   ]
  },
  {
   "cell_type": "markdown",
   "id": "4ea71ff4",
   "metadata": {},
   "source": [
    "## 学習"
   ]
  },
  {
   "cell_type": "code",
   "execution_count": 10,
   "id": "75e34273",
   "metadata": {},
   "outputs": [
    {
     "name": "stdout",
     "output_type": "stream",
     "text": [
      "Epoch 1/10\n"
     ]
    },
    {
     "name": "stderr",
     "output_type": "stream",
     "text": [
      "2021-08-08 05:18:05.960780: I tensorflow/compiler/mlir/mlir_graph_optimization_pass.cc:176] None of the MLIR Optimization Passes are enabled (registered 2)\n"
     ]
    },
    {
     "name": "stdout",
     "output_type": "stream",
     "text": [
      "2/2 [==============================] - 2s 7ms/step - loss: 2.7767\n",
      "Epoch 2/10\n",
      "2/2 [==============================] - 0s 13ms/step - loss: 2.6044\n",
      "Epoch 3/10\n",
      "2/2 [==============================] - 0s 8ms/step - loss: 2.4832\n",
      "Epoch 4/10\n",
      "2/2 [==============================] - 0s 10ms/step - loss: 2.3798\n",
      "Epoch 5/10\n",
      "2/2 [==============================] - 0s 8ms/step - loss: 2.2864\n",
      "Epoch 6/10\n",
      "2/2 [==============================] - 0s 11ms/step - loss: 2.2002\n",
      "Epoch 7/10\n",
      "2/2 [==============================] - 0s 13ms/step - loss: 2.1186\n",
      "Epoch 8/10\n",
      "2/2 [==============================] - 0s 5ms/step - loss: 2.0401\n",
      "Epoch 9/10\n",
      "2/2 [==============================] - 0s 9ms/step - loss: 1.9637\n",
      "Epoch 10/10\n",
      "2/2 [==============================] - 0s 6ms/step - loss: 1.8893\n"
     ]
    },
    {
     "data": {
      "text/plain": [
       "<tensorflow.python.keras.callbacks.History at 0x154e30670>"
      ]
     },
     "execution_count": 10,
     "metadata": {},
     "output_type": "execute_result"
    }
   ],
   "source": [
    "model.fit(trainX, trainY, epochs=10, batch_size=500, verbose=1)"
   ]
  },
  {
   "cell_type": "markdown",
   "id": "52b56f8a",
   "metadata": {},
   "source": [
    "## 予測する"
   ]
  },
  {
   "cell_type": "code",
   "execution_count": 11,
   "id": "ac251556",
   "metadata": {},
   "outputs": [],
   "source": [
    "trainPredict = model.predict(trainX)\n",
    "testPredict = model.predict(testX)\n",
    "predicted = np.concatenate((trainPredict, testPredict), axis=0)"
   ]
  },
  {
   "cell_type": "code",
   "execution_count": 12,
   "id": "a40bc359",
   "metadata": {},
   "outputs": [
    {
     "data": {
      "text/plain": [
       "[<matplotlib.lines.Line2D at 0x1557910a0>]"
      ]
     },
     "execution_count": 12,
     "metadata": {},
     "output_type": "execute_result"
    },
    {
     "data": {
      "image/png": "[encoded data removed]",
      "text/plain": [
       "<Figure size 432x288 with 1 Axes>"
      ]
     },
     "metadata": {
      "needs_background": "light"
     },
     "output_type": "display_data"
    }
   ],
   "source": [
    "plt.figure()\n",
    "plt.plot(x)\n",
    "plt.plot(predicted)"
   ]
  }
 ],
 "metadata": {
  "kernelspec": {
   "display_name": "Python 3 (ipykernel)",
   "language": "python",
   "name": "python3"
  },
  "language_info": {
   "codemirror_mode": {
    "name": "ipython",
    "version": 3
   },
   "file_extension": ".py",
   "mimetype": "text/x-python",
   "name": "python",
   "nbconvert_exporter": "python",
   "pygments_lexer": "ipython3",
   "version": "3.8.0"
  }
 },
 "nbformat": 4,
 "nbformat_minor": 5
}

{
 "cells": [
  {
   "cell_type": "code",
   "execution_count": 1,
   "id": "e7bb4a86",
   "metadata": {},
   "outputs": [],
   "source": [
    "from keras.models import Sequential\n",
    "from keras.layers import Dense, LSTM\n",
    "import matplotlib.pyplot as plt\n",
    "import numpy as np\n",
    "import pandas as pd\n",
    "%matplotlib inline"
   ]
  },
  {
   "cell_type": "markdown",
   "id": "efd6ea5a",
   "metadata": {},
   "source": [
    "## 無作為なdataを生成する\n",
    "$\\sin(0) + 1 \\le x \\le \\sin(20) + 1$\n",
    "\n",
    "$0 \\le x \\le 2$\n",
    "\n",
    "ただし, それぞれ最大1の誤差がある"
   ]
  },
  {
   "cell_type": "code",
   "execution_count": 2,
   "id": "648058bc",
   "metadata": {},
   "outputs": [
    {
     "data": {
      "text/html": [
       "<div>\n",
       "<style scoped>\n",
       "    .dataframe tbody tr th:only-of-type {\n",
       "        vertical-align: middle;\n",
       "    }\n",
       "\n",
       "    .dataframe tbody tr th {\n",
       "        vertical-align: top;\n",
       "    }\n",
       "\n",
       "    .dataframe thead th {\n",
       "        text-align: right;\n",
       "    }\n",
       "</style>\n",
       "<table border=\"1\" class=\"dataframe\">\n",
       "  <thead>\n",
       "    <tr style=\"text-align: right;\">\n",
       "      <th></th>\n",
       "      <th>0</th>\n",
       "    </tr>\n",
       "  </thead>\n",
       "  <tbody>\n",
       "    <tr>\n",
       "      <th>0</th>\n",
       "      <td>1.759908</td>\n",
       "    </tr>\n",
       "    <tr>\n",
       "      <th>1</th>\n",
       "      <td>1.711527</td>\n",
       "    </tr>\n",
       "    <tr>\n",
       "      <th>2</th>\n",
       "      <td>1.606234</td>\n",
       "    </tr>\n",
       "    <tr>\n",
       "      <th>3</th>\n",
       "      <td>1.558282</td>\n",
       "    </tr>\n",
       "    <tr>\n",
       "      <th>4</th>\n",
       "      <td>2.031470</td>\n",
       "    </tr>\n",
       "  </tbody>\n",
       "</table>\n",
       "</div>"
      ],
      "text/plain": [
       "          0\n",
       "0  1.759908\n",
       "1  1.711527\n",
       "2  1.606234\n",
       "3  1.558282\n",
       "4  2.031470"
      ]
     },
     "execution_count": 2,
     "metadata": {},
     "output_type": "execute_result"
    }
   ],
   "source": [
    "t = np.arange(0, 1000)\n",
    "x = np.sin(0.02 * t) + 1 + np.random.rand(1000)\n",
    "df = pd.DataFrame(x)\n",
    "df.head()"
   ]
  },
  {
   "cell_type": "markdown",
   "id": "5b278721",
   "metadata": {},
   "source": [
    "## 訓練用とテスト用に分ける"
   ]
  },
  {
   "cell_type": "code",
   "execution_count": 3,
   "id": "eee5eda2",
   "metadata": {},
   "outputs": [],
   "source": [
    "values = df.values\n",
    "train, test = values[0:800, :], values[800:1000, :]"
   ]
  },
  {
   "cell_type": "markdown",
   "id": "4687d721",
   "metadata": {},
   "source": [
    "## dataを行列に変換する"
   ]
  },
  {
   "cell_type": "code",
   "execution_count": 4,
   "id": "4412f237",
   "metadata": {},
   "outputs": [],
   "source": [
    "def convertToMatrix(data, step=4):\n",
    "    X, Y = [], []\n",
    "    for i in range(len(data) - step):\n",
    "        d = i + step\n",
    "        X.append(data[i:d])\n",
    "        Y.append(data[d])\n",
    "    return np.array(X), np.array(Y)"
   ]
  },
  {
   "cell_type": "code",
   "execution_count": 5,
   "id": "243dbfff",
   "metadata": {},
   "outputs": [],
   "source": [
    "trainX, trainY = convertToMatrix(train, 6)\n",
    "testX, testY = convertToMatrix(test, 6)\n",
    "trainX = np.reshape(trainX, (trainX.shape[0], 1, trainX.shape[1]))\n",
    "testX = np.reshape(testX, (testX.shape[0], 1, testX.shape[1]))"
   ]
  },
  {
   "cell_type": "markdown",
   "id": "0b6960a6",
   "metadata": {},
   "source": [
    "## Modelを作成する"
   ]
  },
  {
   "cell_type": "code",
   "execution_count": 6,
   "id": "676972b0",
   "metadata": {},
   "outputs": [
    {
     "name": "stderr",
     "output_type": "stream",
     "text": [
      "2021-07-27 16:59:55.360157: I tensorflow/core/platform/cpu_feature_guard.cc:142] This TensorFlow binary is optimized with oneAPI Deep Neural Network Library (oneDNN) to use the following CPU instructions in performance-critical operations:  AVX2 FMA\n",
      "To enable them in other operations, rebuild TensorFlow with the appropriate compiler flags.\n"
     ]
    }
   ],
   "source": [
    "model = Sequential()"
   ]
  },
  {
   "cell_type": "markdown",
   "id": "2b95d4f1",
   "metadata": {},
   "source": [
    "## Modelにlayerを追加する"
   ]
  },
  {
   "cell_type": "code",
   "execution_count": 7,
   "id": "64913b17",
   "metadata": {},
   "outputs": [],
   "source": [
    "model.add(LSTM(units=4, input_shape=(1, 6), activation='relu'))\n",
    "model.add(Dense(8, activation='relu'))\n",
    "model.add(Dense(1))"
   ]
  },
  {
   "cell_type": "markdown",
   "id": "cb1ebd8b",
   "metadata": {},
   "source": [
    "## Modelの設定を行う\n",
    "- loss: 損失関数には平均二乗誤差を用いる\n",
    "- optimizer: 最適化アルゴリズムにはRMSPropを用いる"
   ]
  },
  {
   "cell_type": "code",
   "execution_count": 8,
   "id": "c5c710a6",
   "metadata": {},
   "outputs": [],
   "source": [
    "model.compile(loss='mean_squared_error', optimizer='rmsprop')"
   ]
  },
  {
   "cell_type": "markdown",
   "id": "d089d54f",
   "metadata": {},
   "source": [
    "## 作成したModelの概要を見る"
   ]
  },
  {
   "cell_type": "code",
   "execution_count": 9,
   "id": "9f70df2e",
   "metadata": {},
   "outputs": [
    {
     "name": "stdout",
     "output_type": "stream",
     "text": [
      "Model: \"sequential\"\n",
      "_________________________________________________________________\n",
      "Layer (type)                 Output Shape              Param #   \n",
      "=================================================================\n",
      "lstm (LSTM)                  (None, 4)                 176       \n",
      "_________________________________________________________________\n",
      "dense (Dense)                (None, 8)                 40        \n",
      "_________________________________________________________________\n",
      "dense_1 (Dense)              (None, 1)                 9         \n",
      "=================================================================\n",
      "Total params: 225\n",
      "Trainable params: 225\n",
      "Non-trainable params: 0\n",
      "_________________________________________________________________\n"
     ]
    }
   ],
   "source": [
    "model.summary()"
   ]
  },
  {
   "cell_type": "markdown",
   "id": "358ff3be",
   "metadata": {},
   "source": [
    "## 学習"
   ]
  },
  {
   "cell_type": "code",
   "execution_count": 10,
   "id": "aedc2c06",
   "metadata": {},
   "outputs": [
    {
     "name": "stderr",
     "output_type": "stream",
     "text": [
      "2021-07-27 16:59:55.779137: I tensorflow/compiler/mlir/mlir_graph_optimization_pass.cc:176] None of the MLIR Optimization Passes are enabled (registered 2)\n"
     ]
    },
    {
     "name": "stdout",
     "output_type": "stream",
     "text": [
      "Epoch 1/10\n",
      "2/2 - 20s - loss: 2.8783\n",
      "Epoch 2/10\n",
      "2/2 - 0s - loss: 2.7711\n",
      "Epoch 3/10\n",
      "2/2 - 0s - loss: 2.6986\n",
      "Epoch 4/10\n",
      "2/2 - 0s - loss: 2.6352\n",
      "Epoch 5/10\n",
      "2/2 - 0s - loss: 2.5754\n",
      "Epoch 6/10\n",
      "2/2 - 0s - loss: 2.5169\n",
      "Epoch 7/10\n",
      "2/2 - 0s - loss: 2.4588\n",
      "Epoch 8/10\n",
      "2/2 - 0s - loss: 2.4000\n",
      "Epoch 9/10\n",
      "2/2 - 0s - loss: 2.3405\n",
      "Epoch 10/10\n",
      "2/2 - 0s - loss: 2.2800\n"
     ]
    },
    {
     "data": {
      "text/plain": [
       "<keras.callbacks.History at 0x14f20cd30>"
      ]
     },
     "execution_count": 10,
     "metadata": {},
     "output_type": "execute_result"
    }
   ],
   "source": [
    "model.fit(trainX, trainY, epochs=10, batch_size=500, verbose=2)"
   ]
  },
  {
   "cell_type": "markdown",
   "id": "f7253728",
   "metadata": {},
   "source": [
    "## 予測する"
   ]
  },
  {
   "cell_type": "code",
   "execution_count": 11,
   "id": "6e32fab7",
   "metadata": {},
   "outputs": [],
   "source": [
    "trainPredict = model.predict(trainX)\n",
    "testPredict = model.predict(testX)\n",
    "predicted = np.concatenate((trainPredict, testPredict), axis=0)"
   ]
  },
  {
   "cell_type": "code",
   "execution_count": 12,
   "id": "de835a83",
   "metadata": {},
   "outputs": [
    {
     "data": {
      "text/plain": [
       "[<matplotlib.lines.Line2D at 0x14f9c9520>]"
      ]
     },
     "execution_count": 12,
     "metadata": {},
     "output_type": "execute_result"
    },
    {
     "data": {
      "image/png": "[encoded data removed]",
      "text/plain": [
       "<Figure size 432x288 with 1 Axes>"
      ]
     },
     "metadata": {
      "needs_background": "light"
     },
     "output_type": "display_data"
    }
   ],
   "source": [
    "plt.figure()\n",
    "plt.plot(x)\n",
    "plt.plot(predicted)"
   ]
  }
 ],
 "metadata": {
  "kernelspec": {
   "display_name": "Python 3 (ipykernel)",
   "language": "python",
   "name": "python3"
  },
  "language_info": {
   "codemirror_mode": {
    "name": "ipython",
    "version": 3
   },
   "file_extension": ".py",
   "mimetype": "text/x-python",
   "name": "python",
   "nbconvert_exporter": "python",
   "pygments_lexer": "ipython3",
   "version": "3.8.0"
  }
 },
 "nbformat": 4,
 "nbformat_minor": 5
}

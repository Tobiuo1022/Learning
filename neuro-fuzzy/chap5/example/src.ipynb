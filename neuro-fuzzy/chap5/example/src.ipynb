{
 "cells": [
  {
   "cell_type": "code",
   "execution_count": 1,
   "id": "25f3c9a6",
   "metadata": {},
   "outputs": [],
   "source": [
    "import matplotlib.pyplot as plt\n",
    "import numpy as np\n",
    "import pandas as pd\n",
    "from sklearn.preprocessing import StandardScaler\n",
    "from sklearn.metrics import mean_squared_error\n",
    "from tensorflow.keras.layers import Dense, LSTM, GRU\n",
    "from tensorflow.keras.models import Sequential\n",
    "import math\n",
    "%matplotlib inline"
   ]
  },
  {
   "cell_type": "markdown",
   "id": "53a8f397",
   "metadata": {},
   "source": [
    "## データセットの前処理"
   ]
  },
  {
   "cell_type": "code",
   "execution_count": 2,
   "id": "cf28509a",
   "metadata": {},
   "outputs": [],
   "source": [
    "def create_dataset(dataset, step=1):\n",
    "    dataX,dataY = [], []\n",
    "    for i in range(len(dataset) - step -1):\n",
    "        dataX.append(dataset[i:(i+step), 0]) # step分の過去のデータを取得する\n",
    "        dataY.append(dataset[i + step, 0])\n",
    "    return np.array(dataX), np.array(dataY)"
   ]
  },
  {
   "cell_type": "markdown",
   "id": "992a78e4",
   "metadata": {},
   "source": [
    "csvファイルの読み込み"
   ]
  },
  {
   "cell_type": "code",
   "execution_count": 3,
   "id": "46ae4afc",
   "metadata": {},
   "outputs": [],
   "source": [
    "dataframe = pd.read_csv('carriage.csv', usecols=[1])\n",
    "dataset = dataframe.values.astype('float32')"
   ]
  },
  {
   "cell_type": "markdown",
   "id": "13fed095",
   "metadata": {},
   "source": [
    "データセットの標準化"
   ]
  },
  {
   "cell_type": "code",
   "execution_count": 4,
   "id": "70c7c0b5",
   "metadata": {},
   "outputs": [],
   "source": [
    "scaler = StandardScaler()\n",
    "dataset = scaler.fit_transform(dataset)"
   ]
  },
  {
   "cell_type": "markdown",
   "id": "7c10e2d7",
   "metadata": {},
   "source": [
    "データセットを訓練用とテスト用に分ける"
   ]
  },
  {
   "cell_type": "code",
   "execution_count": 5,
   "id": "07f804ac",
   "metadata": {},
   "outputs": [],
   "source": [
    "train_size = int(len(dataset) * 0.9)\n",
    "test_size = len(dataset) - train_size\n",
    "train, test = dataset[0:train_size, :], dataset[train_size:len(dataset), :]"
   ]
  },
  {
   "cell_type": "markdown",
   "id": "08c4c415",
   "metadata": {},
   "source": [
    "データセットをLSTMやGRUに適した行列に整形する"
   ]
  },
  {
   "cell_type": "code",
   "execution_count": 6,
   "id": "c50449e3",
   "metadata": {},
   "outputs": [],
   "source": [
    "step = 1\n",
    "train_X, train_Y = create_dataset(train, step)\n",
    "test_X, test_Y = create_dataset(test, step)\n",
    "train_X = np.reshape(train_X, (train_X.shape[0], 1, train_X.shape[1]))\n",
    "test_X = np.reshape(test_X, (test_X.shape[0], 1, test_X.shape[1]))"
   ]
  },
  {
   "cell_type": "markdown",
   "id": "1b6ca28a",
   "metadata": {},
   "source": [
    "## LSTMのModelを作成する"
   ]
  },
  {
   "cell_type": "code",
   "execution_count": 7,
   "id": "3827084b",
   "metadata": {},
   "outputs": [
    {
     "name": "stderr",
     "output_type": "stream",
     "text": [
      "2021-08-04 01:09:27.740593: I tensorflow/core/platform/cpu_feature_guard.cc:142] This TensorFlow binary is optimized with oneAPI Deep Neural Network Library (oneDNN) to use the following CPU instructions in performance-critical operations:  AVX2 FMA\n",
      "To enable them in other operations, rebuild TensorFlow with the appropriate compiler flags.\n"
     ]
    }
   ],
   "source": [
    "lstm_model = Sequential()"
   ]
  },
  {
   "cell_type": "markdown",
   "id": "e3e7874d",
   "metadata": {},
   "source": [
    "Modelにlayerを追加する"
   ]
  },
  {
   "cell_type": "code",
   "execution_count": 8,
   "id": "032a07fb",
   "metadata": {},
   "outputs": [],
   "source": [
    "lstm_model.add(LSTM(10, input_shape=(1, step)))\n",
    "lstm_model.add(Dense(1))"
   ]
  },
  {
   "cell_type": "markdown",
   "id": "6eba38aa",
   "metadata": {},
   "source": [
    "Modelの設定を行う\n",
    "- loss: 損失関数には平均二乗誤差を用いる\n",
    "- optimizer: 最適化アルゴリズムにはRMSPropを用いる"
   ]
  },
  {
   "cell_type": "code",
   "execution_count": 9,
   "id": "d01321bb",
   "metadata": {},
   "outputs": [],
   "source": [
    "lstm_model.compile(loss='mean_squared_error', optimizer='adam')"
   ]
  },
  {
   "cell_type": "markdown",
   "id": "18c040dd",
   "metadata": {},
   "source": [
    "Modelの概要を見る"
   ]
  },
  {
   "cell_type": "code",
   "execution_count": 10,
   "id": "90885f1e",
   "metadata": {},
   "outputs": [
    {
     "name": "stdout",
     "output_type": "stream",
     "text": [
      "Model: \"sequential\"\n",
      "_________________________________________________________________\n",
      "Layer (type)                 Output Shape              Param #   \n",
      "=================================================================\n",
      "lstm (LSTM)                  (None, 10)                480       \n",
      "_________________________________________________________________\n",
      "dense (Dense)                (None, 1)                 11        \n",
      "=================================================================\n",
      "Total params: 491\n",
      "Trainable params: 491\n",
      "Non-trainable params: 0\n",
      "_________________________________________________________________\n"
     ]
    }
   ],
   "source": [
    "lstm_model.summary()"
   ]
  },
  {
   "cell_type": "markdown",
   "id": "c853160c",
   "metadata": {},
   "source": [
    "学習する"
   ]
  },
  {
   "cell_type": "code",
   "execution_count": 11,
   "id": "c942e3ce",
   "metadata": {},
   "outputs": [
    {
     "name": "stdout",
     "output_type": "stream",
     "text": [
      "Epoch 1/10\n"
     ]
    },
    {
     "name": "stderr",
     "output_type": "stream",
     "text": [
      "2021-08-04 01:09:28.255353: I tensorflow/compiler/mlir/mlir_graph_optimization_pass.cc:176] None of the MLIR Optimization Passes are enabled (registered 2)\n"
     ]
    },
    {
     "name": "stdout",
     "output_type": "stream",
     "text": [
      "5/5 [==============================] - 2s 3ms/step - loss: 0.9377\n",
      "Epoch 2/10\n",
      "5/5 [==============================] - 0s 5ms/step - loss: 0.9202\n",
      "Epoch 3/10\n",
      "5/5 [==============================] - 0s 4ms/step - loss: 0.9028\n",
      "Epoch 4/10\n",
      "5/5 [==============================] - 0s 6ms/step - loss: 0.8858\n",
      "Epoch 5/10\n",
      "5/5 [==============================] - 0s 6ms/step - loss: 0.8688\n",
      "Epoch 6/10\n",
      "5/5 [==============================] - 0s 3ms/step - loss: 0.8514\n",
      "Epoch 7/10\n",
      "5/5 [==============================] - 0s 4ms/step - loss: 0.8351\n",
      "Epoch 8/10\n",
      "5/5 [==============================] - 0s 3ms/step - loss: 0.8176\n",
      "Epoch 9/10\n",
      "5/5 [==============================] - 0s 5ms/step - loss: 0.8004\n",
      "Epoch 10/10\n",
      "5/5 [==============================] - 0s 3ms/step - loss: 0.7840\n"
     ]
    },
    {
     "data": {
      "text/plain": [
       "<tensorflow.python.keras.callbacks.History at 0x1598024f0>"
      ]
     },
     "execution_count": 11,
     "metadata": {},
     "output_type": "execute_result"
    }
   ],
   "source": [
    "lstm_model.fit(train_X, train_Y, epochs=10, batch_size=50, verbose=1)"
   ]
  },
  {
   "cell_type": "markdown",
   "id": "61036244",
   "metadata": {},
   "source": [
    "予測する"
   ]
  },
  {
   "cell_type": "code",
   "execution_count": 12,
   "id": "f9fb598c",
   "metadata": {},
   "outputs": [],
   "source": [
    "lstm_train_predict = lstm_model.predict(train_X)\n",
    "lstm_test_predict = lstm_model.predict(test_X)"
   ]
  },
  {
   "cell_type": "markdown",
   "id": "658d4287",
   "metadata": {},
   "source": [
    "標準化されている予測した値を戻す"
   ]
  },
  {
   "cell_type": "code",
   "execution_count": 13,
   "id": "729ebc2b",
   "metadata": {},
   "outputs": [],
   "source": [
    "lstm_train_predict = scaler.inverse_transform(lstm_train_predict)\n",
    "train_Y = scaler.inverse_transform(train_Y)\n",
    "lstm_test_predict = scaler.inverse_transform(lstm_test_predict)\n",
    "test_Y = scaler.inverse_transform(test_Y)"
   ]
  },
  {
   "cell_type": "markdown",
   "id": "74601071",
   "metadata": {},
   "source": [
    "予測の精度を見てみる"
   ]
  },
  {
   "cell_type": "code",
   "execution_count": 14,
   "id": "1bcadfbe",
   "metadata": {},
   "outputs": [
    {
     "name": "stdout",
     "output_type": "stream",
     "text": [
      "Error in Training data is: 5.18 RMSE\n",
      "Error in Testing data is: 4.11 RMSE\n"
     ]
    }
   ],
   "source": [
    "lstm_train_score = math.sqrt(mean_squared_error(train_Y, lstm_train_predict[:, 0]))\n",
    "print('Error in Training data is: %.2f RMSE' % (lstm_train_score))\n",
    "lstm_test_score = math.sqrt(mean_squared_error(test_Y, lstm_test_predict[:, 0]))\n",
    "print('Error in Testing data is: %.2f RMSE' % (lstm_test_score))"
   ]
  },
  {
   "cell_type": "code",
   "execution_count": 15,
   "id": "c6ec0108",
   "metadata": {},
   "outputs": [
    {
     "data": {
      "text/plain": [
       "[<matplotlib.lines.Line2D at 0x15a3e28e0>]"
      ]
     },
     "execution_count": 15,
     "metadata": {},
     "output_type": "execute_result"
    },
    {
     "data": {
      "image/png": "[encoded data removed]",
      "text/plain": [
       "<Figure size 432x288 with 1 Axes>"
      ]
     },
     "metadata": {
      "needs_background": "light"
     },
     "output_type": "display_data"
    }
   ],
   "source": [
    "plt.figure()\n",
    "plt.plot(test_Y)\n",
    "plt.plot(lstm_test_predict[:, 0])"
   ]
  },
  {
   "cell_type": "markdown",
   "id": "139e34ca",
   "metadata": {},
   "source": [
    "## GRUのModelを作成する"
   ]
  },
  {
   "cell_type": "code",
   "execution_count": 16,
   "id": "786f9863",
   "metadata": {},
   "outputs": [],
   "source": [
    "gru_model = Sequential()"
   ]
  },
  {
   "cell_type": "markdown",
   "id": "778091bb",
   "metadata": {},
   "source": [
    "Modelにlayerを追加する"
   ]
  },
  {
   "cell_type": "code",
   "execution_count": 17,
   "id": "3bdc54cb",
   "metadata": {},
   "outputs": [],
   "source": [
    "gru_model.add(GRU(10, input_shape=(1, step)))\n",
    "gru_model.add(Dense(1))"
   ]
  },
  {
   "cell_type": "markdown",
   "id": "76ef99d9",
   "metadata": {},
   "source": [
    "Modelの設定を行う\n",
    "- loss: 損失関数には平均二乗誤差を用いる\n",
    "- optimizer: 最適化アルゴリズムにはRMSPropを用いる"
   ]
  },
  {
   "cell_type": "code",
   "execution_count": 18,
   "id": "66f9ea00",
   "metadata": {},
   "outputs": [],
   "source": [
    "gru_model.compile(loss='mean_squared_error', optimizer='adam')"
   ]
  },
  {
   "cell_type": "markdown",
   "id": "470745fd",
   "metadata": {},
   "source": [
    "Modelの概要を見る"
   ]
  },
  {
   "cell_type": "code",
   "execution_count": 19,
   "id": "2426e97d",
   "metadata": {},
   "outputs": [
    {
     "name": "stdout",
     "output_type": "stream",
     "text": [
      "Model: \"sequential_1\"\n",
      "_________________________________________________________________\n",
      "Layer (type)                 Output Shape              Param #   \n",
      "=================================================================\n",
      "gru (GRU)                    (None, 10)                390       \n",
      "_________________________________________________________________\n",
      "dense_1 (Dense)              (None, 1)                 11        \n",
      "=================================================================\n",
      "Total params: 401\n",
      "Trainable params: 401\n",
      "Non-trainable params: 0\n",
      "_________________________________________________________________\n"
     ]
    }
   ],
   "source": [
    "gru_model.summary()"
   ]
  },
  {
   "cell_type": "markdown",
   "id": "49a7afd1",
   "metadata": {},
   "source": [
    "学習する"
   ]
  },
  {
   "cell_type": "code",
   "execution_count": 20,
   "id": "9abb07fa",
   "metadata": {},
   "outputs": [
    {
     "name": "stdout",
     "output_type": "stream",
     "text": [
      "Epoch 1/10\n",
      "5/5 [==============================] - 2s 3ms/step - loss: 995.9008\n",
      "Epoch 2/10\n",
      "5/5 [==============================] - 0s 5ms/step - loss: 994.6996\n",
      "Epoch 3/10\n",
      "5/5 [==============================] - 0s 4ms/step - loss: 993.5208\n",
      "Epoch 4/10\n",
      "5/5 [==============================] - 0s 6ms/step - loss: 992.2996\n",
      "Epoch 5/10\n",
      "5/5 [==============================] - 0s 3ms/step - loss: 991.1114\n",
      "Epoch 6/10\n",
      "5/5 [==============================] - 0s 4ms/step - loss: 989.8860\n",
      "Epoch 7/10\n",
      "5/5 [==============================] - 0s 4ms/step - loss: 988.6444\n",
      "Epoch 8/10\n",
      "5/5 [==============================] - 0s 5ms/step - loss: 987.3808\n",
      "Epoch 9/10\n",
      "5/5 [==============================] - 0s 3ms/step - loss: 986.0764\n",
      "Epoch 10/10\n",
      "5/5 [==============================] - 0s 4ms/step - loss: 984.7766\n"
     ]
    },
    {
     "data": {
      "text/plain": [
       "<tensorflow.python.keras.callbacks.History at 0x15a55a4f0>"
      ]
     },
     "execution_count": 20,
     "metadata": {},
     "output_type": "execute_result"
    }
   ],
   "source": [
    "gru_model.fit(train_X, train_Y, epochs=10, batch_size=50, verbose=1)"
   ]
  },
  {
   "cell_type": "markdown",
   "id": "7cf883de",
   "metadata": {},
   "source": [
    "予測する"
   ]
  },
  {
   "cell_type": "code",
   "execution_count": 21,
   "id": "7c29e5d5",
   "metadata": {},
   "outputs": [],
   "source": [
    "gru_train_predict = gru_model.predict(train_X)\n",
    "gru_test_predict = gru_model.predict(test_X)"
   ]
  },
  {
   "cell_type": "markdown",
   "id": "643a1049",
   "metadata": {},
   "source": [
    "標準化されている予測した値を戻す"
   ]
  },
  {
   "cell_type": "code",
   "execution_count": 22,
   "id": "cfd1133f",
   "metadata": {},
   "outputs": [],
   "source": [
    "gru_train_predict = scaler.inverse_transform(gru_train_predict)\n",
    "gru_test_predict = scaler.inverse_transform(gru_test_predict)"
   ]
  },
  {
   "cell_type": "markdown",
   "id": "7fc2d8a5",
   "metadata": {},
   "source": [
    "予測の精度を見てみる"
   ]
  },
  {
   "cell_type": "code",
   "execution_count": 23,
   "id": "b445ff3f",
   "metadata": {},
   "outputs": [
    {
     "name": "stdout",
     "output_type": "stream",
     "text": [
      "Error in Training data is: 6.49 RMSE\n",
      "Error in Testing data is: 3.76 RMSE\n"
     ]
    }
   ],
   "source": [
    "gru_train_score = math.sqrt(mean_squared_error(train_Y, gru_train_predict[:, 0]))\n",
    "print('Error in Training data is: %.2f RMSE' % (gru_train_score))\n",
    "gru_test_score = math.sqrt(mean_squared_error(test_Y, gru_test_predict[:, 0]))\n",
    "print('Error in Testing data is: %.2f RMSE' % (gru_test_score))"
   ]
  },
  {
   "cell_type": "code",
   "execution_count": 24,
   "id": "a12a9733",
   "metadata": {},
   "outputs": [
    {
     "data": {
      "text/plain": [
       "[<matplotlib.lines.Line2D at 0x15aa20ca0>]"
      ]
     },
     "execution_count": 24,
     "metadata": {},
     "output_type": "execute_result"
    },
    {
     "data": {
      "image/png": "[encoded data removed]",
      "text/plain": [
       "<Figure size 432x288 with 1 Axes>"
      ]
     },
     "metadata": {
      "needs_background": "light"
     },
     "output_type": "display_data"
    }
   ],
   "source": [
    "plt.figure()\n",
    "plt.plot(test_Y)\n",
    "plt.plot(gru_test_predict[:, 0])"
   ]
  }
 ],
 "metadata": {
  "kernelspec": {
   "display_name": "Python 3 (ipykernel)",
   "language": "python",
   "name": "python3"
  },
  "language_info": {
   "codemirror_mode": {
    "name": "ipython",
    "version": 3
   },
   "file_extension": ".py",
   "mimetype": "text/x-python",
   "name": "python",
   "nbconvert_exporter": "python",
   "pygments_lexer": "ipython3",
   "version": "3.8.0"
  }
 },
 "nbformat": 4,
 "nbformat_minor": 5
}

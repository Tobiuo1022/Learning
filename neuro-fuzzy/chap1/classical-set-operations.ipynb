{
 "cells": [
  {
   "cell_type": "code",
   "execution_count": 1,
   "metadata": {},
   "outputs": [],
   "source": [
    "A = {0, 2, 4, 6, 8}\n",
    "B = {1, 2, 3, 4, 5}"
   ]
  },
  {
   "cell_type": "code",
   "execution_count": 2,
   "metadata": {},
   "outputs": [
    {
     "name": "stdout",
     "output_type": "stream",
     "text": [
      "Union:  {0, 1, 2, 3, 4, 5, 6, 8}\n",
      "Intersection:  {2, 4}\n",
      "Difference:  {0, 8, 6}\n",
      "Difference:  set()\n"
     ]
    }
   ],
   "source": [
    "print(\"Union: \", A | B)\n",
    "print(\"Intersection: \", A & B)\n",
    "print(\"Difference: \", A - B)\n",
    "print(\"Difference: \", A - {0, 2, 4, 6, 8, 10, 12})"
   ]
  }
 ],
 "metadata": {
  "kernelspec": {
   "display_name": "Python 3",
   "language": "python",
   "name": "python3"
  },
  "language_info": {
   "codemirror_mode": {
    "name": "ipython",
    "version": 3
   },
   "file_extension": ".py",
   "mimetype": "text/x-python",
   "name": "python",
   "nbconvert_exporter": "python",
   "pygments_lexer": "ipython3",
   "version": "3.8.0"
  }
 },
 "nbformat": 4,
 "nbformat_minor": 2
}

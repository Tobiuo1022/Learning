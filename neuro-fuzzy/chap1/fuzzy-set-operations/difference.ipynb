{
 "cells": [
  {
   "cell_type": "code",
   "execution_count": 1,
   "id": "6ada1c82",
   "metadata": {},
   "outputs": [],
   "source": [
    "import skfuzzy as sk\n",
    "import numpy as np\n",
    "import matplotlib.pyplot as plt\n",
    "%matplotlib inline"
   ]
  },
  {
   "cell_type": "code",
   "execution_count": 2,
   "id": "6b5aaaff",
   "metadata": {},
   "outputs": [
    {
     "data": {
      "text/plain": [
       "(array([-10.,  -9.,  -8.,  -7.,  -6.,  -5.,  -4.,  -3.,  -2.,  -1.,   0.,\n",
       "          1.,   2.,   3.,   4.,   5.,   6.,   7.,   8.,   9.,  10.]),\n",
       " array([0. , 0.2, 0.4, 0.6, 0.8, 1. , 0.8, 0.8, 0.6, 0.6, 0.4, 0.4, 0.2,\n",
       "        0.2, 0. , 0. , 0. , 0. , 0. , 0. , 0. ]))"
      ]
     },
     "execution_count": 2,
     "metadata": {},
     "output_type": "execute_result"
    }
   ],
   "source": [
    "x_qual = np.arange(0, 11, 1)\n",
    "\n",
    "qual_lo = sk.trimf(x_qual, [0, 0, 5])\n",
    "qual_md = sk.trimf(x_qual, [0, 5, 10])\n",
    "\n",
    "sk.fuzzy_sub(x_qual, qual_lo, x_qual, qual_md)"
   ]
  }
 ],
 "metadata": {
  "kernelspec": {
   "display_name": "Python 3",
   "language": "python",
   "name": "python3"
  },
  "language_info": {
   "codemirror_mode": {
    "name": "ipython",
    "version": 3
   },
   "file_extension": ".py",
   "mimetype": "text/x-python",
   "name": "python",
   "nbconvert_exporter": "python",
   "pygments_lexer": "ipython3",
   "version": "3.8.0"
  }
 },
 "nbformat": 4,
 "nbformat_minor": 5
}

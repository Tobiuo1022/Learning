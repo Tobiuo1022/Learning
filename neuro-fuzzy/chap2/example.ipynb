{
 "cells": [
  {
   "cell_type": "code",
   "execution_count": 1,
   "id": "870e9c93",
   "metadata": {},
   "outputs": [],
   "source": [
    "import numpy as np\n",
    "import pandas as pd"
   ]
  },
  {
   "cell_type": "markdown",
   "id": "03aa68a5",
   "metadata": {},
   "source": [
    "## Dataを用意する"
   ]
  },
  {
   "cell_type": "code",
   "execution_count": 2,
   "id": "57f71632",
   "metadata": {},
   "outputs": [
    {
     "data": {
      "text/html": [
       "<div>\n",
       "<style scoped>\n",
       "    .dataframe tbody tr th:only-of-type {\n",
       "        vertical-align: middle;\n",
       "    }\n",
       "\n",
       "    .dataframe tbody tr th {\n",
       "        vertical-align: top;\n",
       "    }\n",
       "\n",
       "    .dataframe thead th {\n",
       "        text-align: right;\n",
       "    }\n",
       "</style>\n",
       "<table border=\"1\" class=\"dataframe\">\n",
       "  <thead>\n",
       "    <tr style=\"text-align: right;\">\n",
       "      <th></th>\n",
       "      <th>Apple</th>\n",
       "      <th>Orange</th>\n",
       "      <th>Watermelon</th>\n",
       "      <th>Banana</th>\n",
       "    </tr>\n",
       "  </thead>\n",
       "  <tbody>\n",
       "    <tr>\n",
       "      <th>Circle</th>\n",
       "      <td>0.6</td>\n",
       "      <td>0.5</td>\n",
       "      <td>1.0</td>\n",
       "      <td>0.0</td>\n",
       "    </tr>\n",
       "    <tr>\n",
       "      <th>Slender</th>\n",
       "      <td>0.0</td>\n",
       "      <td>0.0</td>\n",
       "      <td>0.0</td>\n",
       "      <td>1.0</td>\n",
       "    </tr>\n",
       "    <tr>\n",
       "      <th>Flat</th>\n",
       "      <td>0.4</td>\n",
       "      <td>1.0</td>\n",
       "      <td>0.0</td>\n",
       "      <td>0.0</td>\n",
       "    </tr>\n",
       "    <tr>\n",
       "      <th>Big</th>\n",
       "      <td>0.4</td>\n",
       "      <td>0.2</td>\n",
       "      <td>1.0</td>\n",
       "      <td>0.2</td>\n",
       "    </tr>\n",
       "    <tr>\n",
       "      <th>Small</th>\n",
       "      <td>0.7</td>\n",
       "      <td>1.0</td>\n",
       "      <td>0.2</td>\n",
       "      <td>0.2</td>\n",
       "    </tr>\n",
       "  </tbody>\n",
       "</table>\n",
       "</div>"
      ],
      "text/plain": [
       "         Apple  Orange  Watermelon  Banana\n",
       "Circle     0.6     0.5         1.0     0.0\n",
       "Slender    0.0     0.0         0.0     1.0\n",
       "Flat       0.4     1.0         0.0     0.0\n",
       "Big        0.4     0.2         1.0     0.2\n",
       "Small      0.7     1.0         0.2     0.2"
      ]
     },
     "execution_count": 2,
     "metadata": {},
     "output_type": "execute_result"
    }
   ],
   "source": [
    "relation = pd.DataFrame({\n",
    "    'Apple': [0.6, 0., 0.4, 0.4, 0.7],\n",
    "    'Orange': [0.5, 0., 1.0, 0.2, 1.0],\n",
    "    'Watermelon': [1.0, 0., 0., 1.0, 0.2],\n",
    "    'Banana': [0., 1.0, 0., 0.2, 0.2]\n",
    "    },\n",
    "    index=['Circle', 'Slender', 'Flat', 'Big', 'Small'], \n",
    "    dtype=np.float64\n",
    ")\n",
    "relation"
   ]
  },
  {
   "cell_type": "markdown",
   "id": "30116e2f",
   "metadata": {},
   "source": [
    "## 推論の関数を定義する"
   ]
  },
  {
   "cell_type": "code",
   "execution_count": 3,
   "id": "ae5728d1",
   "metadata": {},
   "outputs": [],
   "source": [
    "def reason(R, S):\n",
    "    R_S = np.where(R < S, R, S)\n",
    "    predict_index = R_S.max(axis=1).argmax()\n",
    "    predict = R.T.columns[predict_index]\n",
    "    return predict"
   ]
  },
  {
   "cell_type": "code",
   "execution_count": 4,
   "id": "266fd53d",
   "metadata": {},
   "outputs": [
    {
     "data": {
      "text/plain": [
       "'Watermelon'"
      ]
     },
     "execution_count": 4,
     "metadata": {},
     "output_type": "execute_result"
    }
   ],
   "source": [
    "S1 = np.array([0.7, 0., 0., 0.8, 0.])\n",
    "reason(relation.T, S1)"
   ]
  },
  {
   "cell_type": "code",
   "execution_count": 5,
   "id": "96de9ae2",
   "metadata": {},
   "outputs": [
    {
     "data": {
      "text/plain": [
       "'Orange'"
      ]
     },
     "execution_count": 5,
     "metadata": {},
     "output_type": "execute_result"
    }
   ],
   "source": [
    "S2 = np.array([0.5, 0.3, 0.6, 0., 0.9])\n",
    "reason(relation.T, S2)"
   ]
  },
  {
   "cell_type": "code",
   "execution_count": 6,
   "id": "e9848b51",
   "metadata": {},
   "outputs": [
    {
     "data": {
      "text/plain": [
       "'Banana'"
      ]
     },
     "execution_count": 6,
     "metadata": {},
     "output_type": "execute_result"
    }
   ],
   "source": [
    "S3 = np.array([0., 0.8, 0., 0.3, 0.5])\n",
    "reason(relation.T, S3)"
   ]
  },
  {
   "cell_type": "code",
   "execution_count": 7,
   "id": "4601f19d",
   "metadata": {},
   "outputs": [
    {
     "data": {
      "text/plain": [
       "'Slender'"
      ]
     },
     "execution_count": 7,
     "metadata": {},
     "output_type": "execute_result"
    }
   ],
   "source": [
    "S4 = np.array([0., 0., 0., 1.])\n",
    "reason(relation, S4)"
   ]
  },
  {
   "cell_type": "code",
   "execution_count": 8,
   "id": "7ceda7f3",
   "metadata": {},
   "outputs": [
    {
     "data": {
      "text/plain": [
       "'Flat'"
      ]
     },
     "execution_count": 8,
     "metadata": {},
     "output_type": "execute_result"
    }
   ],
   "source": [
    "S5 = np.array([0., 1., 0., 0.])\n",
    "reason(relation, S5)"
   ]
  }
 ],
 "metadata": {
  "kernelspec": {
   "display_name": "Python 3 (ipykernel)",
   "language": "python",
   "name": "python3"
  },
  "language_info": {
   "codemirror_mode": {
    "name": "ipython",
    "version": 3
   },
   "file_extension": ".py",
   "mimetype": "text/x-python",
   "name": "python",
   "nbconvert_exporter": "python",
   "pygments_lexer": "ipython3",
   "version": "3.8.0"
  }
 },
 "nbformat": 4,
 "nbformat_minor": 5
}
